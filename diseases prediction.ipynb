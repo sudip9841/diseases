{
 "cells": [
  {
   "cell_type": "code",
   "execution_count": 1,
   "metadata": {},
   "outputs": [
    {
     "ename": "ModuleNotFoundError",
     "evalue": "No module named 'pandas'",
     "output_type": "error",
     "traceback": [
      "\u001b[1;31m---------------------------------------------------------------------------\u001b[0m",
      "\u001b[1;31mModuleNotFoundError\u001b[0m                       Traceback (most recent call last)",
      "\u001b[1;32m<ipython-input-1-13a015dad593>\u001b[0m in \u001b[0;36m<module>\u001b[1;34m\u001b[0m\n\u001b[0;32m      1\u001b[0m \u001b[1;31m#importing necessary libraries\u001b[0m\u001b[1;33m\u001b[0m\u001b[1;33m\u001b[0m\u001b[1;33m\u001b[0m\u001b[0m\n\u001b[1;32m----> 2\u001b[1;33m \u001b[1;32mimport\u001b[0m \u001b[0mpandas\u001b[0m \u001b[1;32mas\u001b[0m \u001b[0mpd\u001b[0m\u001b[1;33m\u001b[0m\u001b[1;33m\u001b[0m\u001b[0m\n\u001b[0m\u001b[0;32m      3\u001b[0m \u001b[1;32mimport\u001b[0m \u001b[0mnumpy\u001b[0m \u001b[1;32mas\u001b[0m \u001b[0mnp\u001b[0m\u001b[1;33m\u001b[0m\u001b[1;33m\u001b[0m\u001b[0m\n\u001b[0;32m      4\u001b[0m \u001b[1;32mimport\u001b[0m \u001b[0mseaborn\u001b[0m \u001b[1;32mas\u001b[0m \u001b[0msns\u001b[0m\u001b[1;33m\u001b[0m\u001b[1;33m\u001b[0m\u001b[0m\n\u001b[0;32m      5\u001b[0m \u001b[1;32mimport\u001b[0m \u001b[0mmatplotlib\u001b[0m\u001b[1;33m.\u001b[0m\u001b[0mpyplot\u001b[0m \u001b[1;32mas\u001b[0m \u001b[0mplt\u001b[0m\u001b[1;33m\u001b[0m\u001b[1;33m\u001b[0m\u001b[0m\n",
      "\u001b[1;31mModuleNotFoundError\u001b[0m: No module named 'pandas'"
     ]
    }
   ],
   "source": [
    "#importing necessary libraries\n",
    "import pandas as pd\n",
    "import numpy as np\n",
    "import seaborn as sns\n",
    "import matplotlib.pyplot as plt"
   ]
  },
  {
   "cell_type": "code",
   "execution_count": 2,
   "metadata": {},
   "outputs": [],
   "source": [
    "#reading the csv file with the help of pandas framework and importing it into dataframe\n",
    "df = pd.read_csv('./datasets/dataset.csv')"
   ]
  },
  {
   "cell_type": "code",
   "execution_count": 3,
   "metadata": {},
   "outputs": [],
   "source": [
    "#checking the first five and last five rows of the dataframe"
   ]
  },
  {
   "cell_type": "code",
   "execution_count": 4,
   "metadata": {},
   "outputs": [
    {
     "data": {
      "text/html": [
       "<div>\n",
       "<style scoped>\n",
       "    .dataframe tbody tr th:only-of-type {\n",
       "        vertical-align: middle;\n",
       "    }\n",
       "\n",
       "    .dataframe tbody tr th {\n",
       "        vertical-align: top;\n",
       "    }\n",
       "\n",
       "    .dataframe thead th {\n",
       "        text-align: right;\n",
       "    }\n",
       "</style>\n",
       "<table border=\"1\" class=\"dataframe\">\n",
       "  <thead>\n",
       "    <tr style=\"text-align: right;\">\n",
       "      <th></th>\n",
       "      <th>Disease</th>\n",
       "      <th>Symptom_1</th>\n",
       "      <th>Symptom_2</th>\n",
       "      <th>Symptom_3</th>\n",
       "      <th>Symptom_4</th>\n",
       "      <th>Symptom_5</th>\n",
       "      <th>Symptom_6</th>\n",
       "      <th>Symptom_7</th>\n",
       "      <th>Symptom_8</th>\n",
       "      <th>Symptom_9</th>\n",
       "      <th>Symptom_10</th>\n",
       "      <th>Symptom_11</th>\n",
       "      <th>Symptom_12</th>\n",
       "      <th>Symptom_13</th>\n",
       "      <th>Symptom_14</th>\n",
       "      <th>Symptom_15</th>\n",
       "      <th>Symptom_16</th>\n",
       "      <th>Symptom_17</th>\n",
       "    </tr>\n",
       "  </thead>\n",
       "  <tbody>\n",
       "    <tr>\n",
       "      <th>0</th>\n",
       "      <td>Fungal infection</td>\n",
       "      <td>itching</td>\n",
       "      <td>skin_rash</td>\n",
       "      <td>nodal_skin_eruptions</td>\n",
       "      <td>dischromic _patches</td>\n",
       "      <td>NaN</td>\n",
       "      <td>NaN</td>\n",
       "      <td>NaN</td>\n",
       "      <td>NaN</td>\n",
       "      <td>NaN</td>\n",
       "      <td>NaN</td>\n",
       "      <td>NaN</td>\n",
       "      <td>NaN</td>\n",
       "      <td>NaN</td>\n",
       "      <td>NaN</td>\n",
       "      <td>NaN</td>\n",
       "      <td>NaN</td>\n",
       "      <td>NaN</td>\n",
       "    </tr>\n",
       "    <tr>\n",
       "      <th>1</th>\n",
       "      <td>Fungal infection</td>\n",
       "      <td>skin_rash</td>\n",
       "      <td>nodal_skin_eruptions</td>\n",
       "      <td>dischromic _patches</td>\n",
       "      <td>NaN</td>\n",
       "      <td>NaN</td>\n",
       "      <td>NaN</td>\n",
       "      <td>NaN</td>\n",
       "      <td>NaN</td>\n",
       "      <td>NaN</td>\n",
       "      <td>NaN</td>\n",
       "      <td>NaN</td>\n",
       "      <td>NaN</td>\n",
       "      <td>NaN</td>\n",
       "      <td>NaN</td>\n",
       "      <td>NaN</td>\n",
       "      <td>NaN</td>\n",
       "      <td>NaN</td>\n",
       "    </tr>\n",
       "    <tr>\n",
       "      <th>2</th>\n",
       "      <td>Fungal infection</td>\n",
       "      <td>itching</td>\n",
       "      <td>nodal_skin_eruptions</td>\n",
       "      <td>dischromic _patches</td>\n",
       "      <td>NaN</td>\n",
       "      <td>NaN</td>\n",
       "      <td>NaN</td>\n",
       "      <td>NaN</td>\n",
       "      <td>NaN</td>\n",
       "      <td>NaN</td>\n",
       "      <td>NaN</td>\n",
       "      <td>NaN</td>\n",
       "      <td>NaN</td>\n",
       "      <td>NaN</td>\n",
       "      <td>NaN</td>\n",
       "      <td>NaN</td>\n",
       "      <td>NaN</td>\n",
       "      <td>NaN</td>\n",
       "    </tr>\n",
       "    <tr>\n",
       "      <th>3</th>\n",
       "      <td>Fungal infection</td>\n",
       "      <td>itching</td>\n",
       "      <td>skin_rash</td>\n",
       "      <td>dischromic _patches</td>\n",
       "      <td>NaN</td>\n",
       "      <td>NaN</td>\n",
       "      <td>NaN</td>\n",
       "      <td>NaN</td>\n",
       "      <td>NaN</td>\n",
       "      <td>NaN</td>\n",
       "      <td>NaN</td>\n",
       "      <td>NaN</td>\n",
       "      <td>NaN</td>\n",
       "      <td>NaN</td>\n",
       "      <td>NaN</td>\n",
       "      <td>NaN</td>\n",
       "      <td>NaN</td>\n",
       "      <td>NaN</td>\n",
       "    </tr>\n",
       "    <tr>\n",
       "      <th>4</th>\n",
       "      <td>Fungal infection</td>\n",
       "      <td>itching</td>\n",
       "      <td>skin_rash</td>\n",
       "      <td>nodal_skin_eruptions</td>\n",
       "      <td>NaN</td>\n",
       "      <td>NaN</td>\n",
       "      <td>NaN</td>\n",
       "      <td>NaN</td>\n",
       "      <td>NaN</td>\n",
       "      <td>NaN</td>\n",
       "      <td>NaN</td>\n",
       "      <td>NaN</td>\n",
       "      <td>NaN</td>\n",
       "      <td>NaN</td>\n",
       "      <td>NaN</td>\n",
       "      <td>NaN</td>\n",
       "      <td>NaN</td>\n",
       "      <td>NaN</td>\n",
       "    </tr>\n",
       "  </tbody>\n",
       "</table>\n",
       "</div>"
      ],
      "text/plain": [
       "            Disease   Symptom_1              Symptom_2              Symptom_3  \\\n",
       "0  Fungal infection     itching              skin_rash   nodal_skin_eruptions   \n",
       "1  Fungal infection   skin_rash   nodal_skin_eruptions    dischromic _patches   \n",
       "2  Fungal infection     itching   nodal_skin_eruptions    dischromic _patches   \n",
       "3  Fungal infection     itching              skin_rash    dischromic _patches   \n",
       "4  Fungal infection     itching              skin_rash   nodal_skin_eruptions   \n",
       "\n",
       "              Symptom_4 Symptom_5 Symptom_6 Symptom_7 Symptom_8 Symptom_9  \\\n",
       "0   dischromic _patches       NaN       NaN       NaN       NaN       NaN   \n",
       "1                   NaN       NaN       NaN       NaN       NaN       NaN   \n",
       "2                   NaN       NaN       NaN       NaN       NaN       NaN   \n",
       "3                   NaN       NaN       NaN       NaN       NaN       NaN   \n",
       "4                   NaN       NaN       NaN       NaN       NaN       NaN   \n",
       "\n",
       "  Symptom_10 Symptom_11 Symptom_12 Symptom_13 Symptom_14 Symptom_15  \\\n",
       "0        NaN        NaN        NaN        NaN        NaN        NaN   \n",
       "1        NaN        NaN        NaN        NaN        NaN        NaN   \n",
       "2        NaN        NaN        NaN        NaN        NaN        NaN   \n",
       "3        NaN        NaN        NaN        NaN        NaN        NaN   \n",
       "4        NaN        NaN        NaN        NaN        NaN        NaN   \n",
       "\n",
       "  Symptom_16 Symptom_17  \n",
       "0        NaN        NaN  \n",
       "1        NaN        NaN  \n",
       "2        NaN        NaN  \n",
       "3        NaN        NaN  \n",
       "4        NaN        NaN  "
      ]
     },
     "execution_count": 4,
     "metadata": {},
     "output_type": "execute_result"
    }
   ],
   "source": [
    "df.head()"
   ]
  },
  {
   "cell_type": "code",
   "execution_count": 5,
   "metadata": {},
   "outputs": [
    {
     "data": {
      "text/html": [
       "<div>\n",
       "<style scoped>\n",
       "    .dataframe tbody tr th:only-of-type {\n",
       "        vertical-align: middle;\n",
       "    }\n",
       "\n",
       "    .dataframe tbody tr th {\n",
       "        vertical-align: top;\n",
       "    }\n",
       "\n",
       "    .dataframe thead th {\n",
       "        text-align: right;\n",
       "    }\n",
       "</style>\n",
       "<table border=\"1\" class=\"dataframe\">\n",
       "  <thead>\n",
       "    <tr style=\"text-align: right;\">\n",
       "      <th></th>\n",
       "      <th>Disease</th>\n",
       "      <th>Symptom_1</th>\n",
       "      <th>Symptom_2</th>\n",
       "      <th>Symptom_3</th>\n",
       "      <th>Symptom_4</th>\n",
       "      <th>Symptom_5</th>\n",
       "      <th>Symptom_6</th>\n",
       "      <th>Symptom_7</th>\n",
       "      <th>Symptom_8</th>\n",
       "      <th>Symptom_9</th>\n",
       "      <th>Symptom_10</th>\n",
       "      <th>Symptom_11</th>\n",
       "      <th>Symptom_12</th>\n",
       "      <th>Symptom_13</th>\n",
       "      <th>Symptom_14</th>\n",
       "      <th>Symptom_15</th>\n",
       "      <th>Symptom_16</th>\n",
       "      <th>Symptom_17</th>\n",
       "    </tr>\n",
       "  </thead>\n",
       "  <tbody>\n",
       "    <tr>\n",
       "      <th>4915</th>\n",
       "      <td>(vertigo) Paroymsal  Positional Vertigo</td>\n",
       "      <td>vomiting</td>\n",
       "      <td>headache</td>\n",
       "      <td>nausea</td>\n",
       "      <td>spinning_movements</td>\n",
       "      <td>loss_of_balance</td>\n",
       "      <td>unsteadiness</td>\n",
       "      <td>NaN</td>\n",
       "      <td>NaN</td>\n",
       "      <td>NaN</td>\n",
       "      <td>NaN</td>\n",
       "      <td>NaN</td>\n",
       "      <td>NaN</td>\n",
       "      <td>NaN</td>\n",
       "      <td>NaN</td>\n",
       "      <td>NaN</td>\n",
       "      <td>NaN</td>\n",
       "      <td>NaN</td>\n",
       "    </tr>\n",
       "    <tr>\n",
       "      <th>4916</th>\n",
       "      <td>Acne</td>\n",
       "      <td>skin_rash</td>\n",
       "      <td>pus_filled_pimples</td>\n",
       "      <td>blackheads</td>\n",
       "      <td>scurring</td>\n",
       "      <td>NaN</td>\n",
       "      <td>NaN</td>\n",
       "      <td>NaN</td>\n",
       "      <td>NaN</td>\n",
       "      <td>NaN</td>\n",
       "      <td>NaN</td>\n",
       "      <td>NaN</td>\n",
       "      <td>NaN</td>\n",
       "      <td>NaN</td>\n",
       "      <td>NaN</td>\n",
       "      <td>NaN</td>\n",
       "      <td>NaN</td>\n",
       "      <td>NaN</td>\n",
       "    </tr>\n",
       "    <tr>\n",
       "      <th>4917</th>\n",
       "      <td>Urinary tract infection</td>\n",
       "      <td>burning_micturition</td>\n",
       "      <td>bladder_discomfort</td>\n",
       "      <td>foul_smell_of urine</td>\n",
       "      <td>continuous_feel_of_urine</td>\n",
       "      <td>NaN</td>\n",
       "      <td>NaN</td>\n",
       "      <td>NaN</td>\n",
       "      <td>NaN</td>\n",
       "      <td>NaN</td>\n",
       "      <td>NaN</td>\n",
       "      <td>NaN</td>\n",
       "      <td>NaN</td>\n",
       "      <td>NaN</td>\n",
       "      <td>NaN</td>\n",
       "      <td>NaN</td>\n",
       "      <td>NaN</td>\n",
       "      <td>NaN</td>\n",
       "    </tr>\n",
       "    <tr>\n",
       "      <th>4918</th>\n",
       "      <td>Psoriasis</td>\n",
       "      <td>skin_rash</td>\n",
       "      <td>joint_pain</td>\n",
       "      <td>skin_peeling</td>\n",
       "      <td>silver_like_dusting</td>\n",
       "      <td>small_dents_in_nails</td>\n",
       "      <td>inflammatory_nails</td>\n",
       "      <td>NaN</td>\n",
       "      <td>NaN</td>\n",
       "      <td>NaN</td>\n",
       "      <td>NaN</td>\n",
       "      <td>NaN</td>\n",
       "      <td>NaN</td>\n",
       "      <td>NaN</td>\n",
       "      <td>NaN</td>\n",
       "      <td>NaN</td>\n",
       "      <td>NaN</td>\n",
       "      <td>NaN</td>\n",
       "    </tr>\n",
       "    <tr>\n",
       "      <th>4919</th>\n",
       "      <td>Impetigo</td>\n",
       "      <td>skin_rash</td>\n",
       "      <td>high_fever</td>\n",
       "      <td>blister</td>\n",
       "      <td>red_sore_around_nose</td>\n",
       "      <td>yellow_crust_ooze</td>\n",
       "      <td>NaN</td>\n",
       "      <td>NaN</td>\n",
       "      <td>NaN</td>\n",
       "      <td>NaN</td>\n",
       "      <td>NaN</td>\n",
       "      <td>NaN</td>\n",
       "      <td>NaN</td>\n",
       "      <td>NaN</td>\n",
       "      <td>NaN</td>\n",
       "      <td>NaN</td>\n",
       "      <td>NaN</td>\n",
       "      <td>NaN</td>\n",
       "    </tr>\n",
       "  </tbody>\n",
       "</table>\n",
       "</div>"
      ],
      "text/plain": [
       "                                      Disease             Symptom_1  \\\n",
       "4915  (vertigo) Paroymsal  Positional Vertigo              vomiting   \n",
       "4916                                     Acne             skin_rash   \n",
       "4917                  Urinary tract infection   burning_micturition   \n",
       "4918                                Psoriasis             skin_rash   \n",
       "4919                                 Impetigo             skin_rash   \n",
       "\n",
       "                Symptom_2             Symptom_3                  Symptom_4  \\\n",
       "4915             headache                nausea         spinning_movements   \n",
       "4916   pus_filled_pimples            blackheads                   scurring   \n",
       "4917   bladder_discomfort   foul_smell_of urine   continuous_feel_of_urine   \n",
       "4918           joint_pain          skin_peeling        silver_like_dusting   \n",
       "4919           high_fever               blister       red_sore_around_nose   \n",
       "\n",
       "                  Symptom_5            Symptom_6 Symptom_7 Symptom_8  \\\n",
       "4915        loss_of_balance         unsteadiness       NaN       NaN   \n",
       "4916                    NaN                  NaN       NaN       NaN   \n",
       "4917                    NaN                  NaN       NaN       NaN   \n",
       "4918   small_dents_in_nails   inflammatory_nails       NaN       NaN   \n",
       "4919      yellow_crust_ooze                  NaN       NaN       NaN   \n",
       "\n",
       "     Symptom_9 Symptom_10 Symptom_11 Symptom_12 Symptom_13 Symptom_14  \\\n",
       "4915       NaN        NaN        NaN        NaN        NaN        NaN   \n",
       "4916       NaN        NaN        NaN        NaN        NaN        NaN   \n",
       "4917       NaN        NaN        NaN        NaN        NaN        NaN   \n",
       "4918       NaN        NaN        NaN        NaN        NaN        NaN   \n",
       "4919       NaN        NaN        NaN        NaN        NaN        NaN   \n",
       "\n",
       "     Symptom_15 Symptom_16 Symptom_17  \n",
       "4915        NaN        NaN        NaN  \n",
       "4916        NaN        NaN        NaN  \n",
       "4917        NaN        NaN        NaN  \n",
       "4918        NaN        NaN        NaN  \n",
       "4919        NaN        NaN        NaN  "
      ]
     },
     "execution_count": 5,
     "metadata": {},
     "output_type": "execute_result"
    }
   ],
   "source": [
    "df.tail()"
   ]
  },
  {
   "cell_type": "code",
   "execution_count": 6,
   "metadata": {},
   "outputs": [
    {
     "data": {
      "text/html": [
       "<div>\n",
       "<style scoped>\n",
       "    .dataframe tbody tr th:only-of-type {\n",
       "        vertical-align: middle;\n",
       "    }\n",
       "\n",
       "    .dataframe tbody tr th {\n",
       "        vertical-align: top;\n",
       "    }\n",
       "\n",
       "    .dataframe thead th {\n",
       "        text-align: right;\n",
       "    }\n",
       "</style>\n",
       "<table border=\"1\" class=\"dataframe\">\n",
       "  <thead>\n",
       "    <tr style=\"text-align: right;\">\n",
       "      <th></th>\n",
       "      <th>Disease</th>\n",
       "      <th>Symptom_1</th>\n",
       "      <th>Symptom_2</th>\n",
       "      <th>Symptom_3</th>\n",
       "      <th>Symptom_4</th>\n",
       "      <th>Symptom_5</th>\n",
       "      <th>Symptom_6</th>\n",
       "      <th>Symptom_7</th>\n",
       "      <th>Symptom_8</th>\n",
       "      <th>Symptom_9</th>\n",
       "      <th>Symptom_10</th>\n",
       "      <th>Symptom_11</th>\n",
       "      <th>Symptom_12</th>\n",
       "      <th>Symptom_13</th>\n",
       "      <th>Symptom_14</th>\n",
       "      <th>Symptom_15</th>\n",
       "      <th>Symptom_16</th>\n",
       "      <th>Symptom_17</th>\n",
       "    </tr>\n",
       "  </thead>\n",
       "  <tbody>\n",
       "    <tr>\n",
       "      <th>count</th>\n",
       "      <td>4920</td>\n",
       "      <td>4920</td>\n",
       "      <td>4920</td>\n",
       "      <td>4920</td>\n",
       "      <td>4572</td>\n",
       "      <td>3714</td>\n",
       "      <td>2934</td>\n",
       "      <td>2268</td>\n",
       "      <td>1944</td>\n",
       "      <td>1692</td>\n",
       "      <td>1512</td>\n",
       "      <td>1194</td>\n",
       "      <td>744</td>\n",
       "      <td>504</td>\n",
       "      <td>306</td>\n",
       "      <td>240</td>\n",
       "      <td>192</td>\n",
       "      <td>72</td>\n",
       "    </tr>\n",
       "    <tr>\n",
       "      <th>unique</th>\n",
       "      <td>41</td>\n",
       "      <td>34</td>\n",
       "      <td>48</td>\n",
       "      <td>54</td>\n",
       "      <td>50</td>\n",
       "      <td>38</td>\n",
       "      <td>32</td>\n",
       "      <td>26</td>\n",
       "      <td>21</td>\n",
       "      <td>22</td>\n",
       "      <td>21</td>\n",
       "      <td>18</td>\n",
       "      <td>11</td>\n",
       "      <td>8</td>\n",
       "      <td>4</td>\n",
       "      <td>3</td>\n",
       "      <td>3</td>\n",
       "      <td>1</td>\n",
       "    </tr>\n",
       "    <tr>\n",
       "      <th>top</th>\n",
       "      <td>Paralysis (brain hemorrhage)</td>\n",
       "      <td>vomiting</td>\n",
       "      <td>vomiting</td>\n",
       "      <td>fatigue</td>\n",
       "      <td>high_fever</td>\n",
       "      <td>headache</td>\n",
       "      <td>nausea</td>\n",
       "      <td>abdominal_pain</td>\n",
       "      <td>abdominal_pain</td>\n",
       "      <td>yellowing_of_eyes</td>\n",
       "      <td>yellowing_of_eyes</td>\n",
       "      <td>irritability</td>\n",
       "      <td>malaise</td>\n",
       "      <td>runny_nose</td>\n",
       "      <td>chest_pain</td>\n",
       "      <td>chest_pain</td>\n",
       "      <td>loss_of_smell</td>\n",
       "      <td>muscle_pain</td>\n",
       "    </tr>\n",
       "    <tr>\n",
       "      <th>freq</th>\n",
       "      <td>120</td>\n",
       "      <td>822</td>\n",
       "      <td>870</td>\n",
       "      <td>726</td>\n",
       "      <td>378</td>\n",
       "      <td>348</td>\n",
       "      <td>390</td>\n",
       "      <td>264</td>\n",
       "      <td>276</td>\n",
       "      <td>228</td>\n",
       "      <td>198</td>\n",
       "      <td>120</td>\n",
       "      <td>126</td>\n",
       "      <td>72</td>\n",
       "      <td>96</td>\n",
       "      <td>144</td>\n",
       "      <td>72</td>\n",
       "      <td>72</td>\n",
       "    </tr>\n",
       "  </tbody>\n",
       "</table>\n",
       "</div>"
      ],
      "text/plain": [
       "                             Disease  Symptom_1  Symptom_2 Symptom_3  \\\n",
       "count                           4920       4920       4920      4920   \n",
       "unique                            41         34         48        54   \n",
       "top     Paralysis (brain hemorrhage)   vomiting   vomiting   fatigue   \n",
       "freq                             120        822        870       726   \n",
       "\n",
       "          Symptom_4  Symptom_5 Symptom_6        Symptom_7        Symptom_8  \\\n",
       "count          4572       3714      2934             2268             1944   \n",
       "unique           50         38        32               26               21   \n",
       "top      high_fever   headache    nausea   abdominal_pain   abdominal_pain   \n",
       "freq            378        348       390              264              276   \n",
       "\n",
       "                 Symptom_9          Symptom_10     Symptom_11 Symptom_12  \\\n",
       "count                 1692                1512           1194        744   \n",
       "unique                  22                  21             18         11   \n",
       "top      yellowing_of_eyes   yellowing_of_eyes   irritability    malaise   \n",
       "freq                   228                 198            120        126   \n",
       "\n",
       "         Symptom_13   Symptom_14   Symptom_15      Symptom_16    Symptom_17  \n",
       "count           504          306          240             192            72  \n",
       "unique            8            4            3               3             1  \n",
       "top      runny_nose   chest_pain   chest_pain   loss_of_smell   muscle_pain  \n",
       "freq             72           96          144              72            72  "
      ]
     },
     "execution_count": 6,
     "metadata": {},
     "output_type": "execute_result"
    }
   ],
   "source": [
    "#calculationg some statical data form our datasets\n",
    "df.describe()"
   ]
  },
  {
   "cell_type": "code",
   "execution_count": 7,
   "metadata": {},
   "outputs": [
    {
     "data": {
      "text/plain": [
       "<AxesSubplot:>"
      ]
     },
     "execution_count": 7,
     "metadata": {},
     "output_type": "execute_result"
    },
    {
     "data": {
      "image/png": "[encoded data removed]",
      "text/plain": [
       "<Figure size 432x288 with 2 Axes>"
      ]
     },
     "metadata": {
      "needs_background": "light"
     },
     "output_type": "display_data"
    }
   ],
   "source": [
    "#checking the null value of our datasets with the help of seaborn heatmap\n",
    "sns.heatmap(df.isna())"
   ]
  },
  {
   "cell_type": "code",
   "execution_count": 8,
   "metadata": {},
   "outputs": [],
   "source": [
    "#as we can see there are altogether 17 symptoms i.e. features and above symptoms 4 there are lots of missing data"
   ]
  },
  {
   "cell_type": "code",
   "execution_count": 9,
   "metadata": {},
   "outputs": [
    {
     "name": "stdout",
     "output_type": "stream",
     "text": [
      "Disease total null = 0\n",
      "Symptom_1 total null = 0\n",
      "Symptom_2 total null = 0\n",
      "Symptom_3 total null = 0\n",
      "Symptom_4 total null = 348\n",
      "Symptom_5 total null = 1206\n",
      "Symptom_6 total null = 1986\n",
      "Symptom_7 total null = 2652\n",
      "Symptom_8 total null = 2976\n",
      "Symptom_9 total null = 3228\n",
      "Symptom_10 total null = 3408\n",
      "Symptom_11 total null = 3726\n",
      "Symptom_12 total null = 4176\n",
      "Symptom_13 total null = 4416\n",
      "Symptom_14 total null = 4614\n",
      "Symptom_15 total null = 4680\n",
      "Symptom_16 total null = 4728\n",
      "Symptom_17 total null = 4848\n"
     ]
    }
   ],
   "source": [
    "#again counting the total null value of each features of dataframe\n",
    "for col in df.columns:\n",
    "    print(\"{} total null = {}\".format(col,sum(df[col].isnull())))"
   ]
  },
  {
   "cell_type": "code",
   "execution_count": 10,
   "metadata": {},
   "outputs": [],
   "source": [
    "#replacing '_' value with empty space \n",
    "for col in df.columns:\n",
    "    df[col] = df[col].str.replace('_',' ')"
   ]
  },
  {
   "cell_type": "code",
   "execution_count": 11,
   "metadata": {},
   "outputs": [
    {
     "data": {
      "text/plain": [
       "array(['itching', ' skin rash', ' continuous sneezing', ' shivering',\n",
       "       ' stomach pain', ' acidity', ' vomiting', ' indigestion',\n",
       "       ' muscle wasting', ' patches in throat', ' fatigue',\n",
       "       ' weight loss', ' sunken eyes', ' cough', ' headache',\n",
       "       ' chest pain', ' back pain', ' weakness in limbs', ' chills',\n",
       "       ' joint pain', ' yellowish skin', ' constipation',\n",
       "       ' pain during bowel movements', ' breathlessness', ' cramps',\n",
       "       ' weight gain', ' mood swings', ' neck pain', ' muscle weakness',\n",
       "       ' stiff neck', ' pus filled pimples', ' burning micturition',\n",
       "       ' bladder discomfort', ' high fever'], dtype=object)"
      ]
     },
     "execution_count": 11,
     "metadata": {},
     "output_type": "execute_result"
    }
   ],
   "source": [
    "#checking if the logic works or not\n",
    "df.iloc[:,1].unique()"
   ]
  },
  {
   "cell_type": "code",
   "execution_count": 12,
   "metadata": {},
   "outputs": [],
   "source": [
    "cols = df.columns"
   ]
  },
  {
   "cell_type": "code",
   "execution_count": 13,
   "metadata": {},
   "outputs": [],
   "source": [
    "#converting the values into one dimension array\n",
    "data = df[cols].values.flatten()"
   ]
  },
  {
   "cell_type": "code",
   "execution_count": 14,
   "metadata": {},
   "outputs": [],
   "source": [
    "#converting the values into pandas series\n",
    "reshaped = pd.Series(data)"
   ]
  },
  {
   "cell_type": "code",
   "execution_count": 15,
   "metadata": {},
   "outputs": [],
   "source": [
    "#removing the extra white spaces\n",
    "reshaped = reshaped.str.strip()"
   ]
  },
  {
   "cell_type": "code",
   "execution_count": 16,
   "metadata": {},
   "outputs": [],
   "source": [
    "#again reshaping the value into original form\n",
    "reshaped = reshaped.values.reshape(df.shape)"
   ]
  },
  {
   "cell_type": "code",
   "execution_count": 17,
   "metadata": {},
   "outputs": [],
   "source": [
    "#converting back to dataframe\n",
    "df = pd.DataFrame(reshaped, columns=df.columns)"
   ]
  },
  {
   "cell_type": "code",
   "execution_count": 18,
   "metadata": {},
   "outputs": [
    {
     "data": {
      "text/html": [
       "<div>\n",
       "<style scoped>\n",
       "    .dataframe tbody tr th:only-of-type {\n",
       "        vertical-align: middle;\n",
       "    }\n",
       "\n",
       "    .dataframe tbody tr th {\n",
       "        vertical-align: top;\n",
       "    }\n",
       "\n",
       "    .dataframe thead th {\n",
       "        text-align: right;\n",
       "    }\n",
       "</style>\n",
       "<table border=\"1\" class=\"dataframe\">\n",
       "  <thead>\n",
       "    <tr style=\"text-align: right;\">\n",
       "      <th></th>\n",
       "      <th>Disease</th>\n",
       "      <th>Symptom_1</th>\n",
       "      <th>Symptom_2</th>\n",
       "      <th>Symptom_3</th>\n",
       "      <th>Symptom_4</th>\n",
       "      <th>Symptom_5</th>\n",
       "      <th>Symptom_6</th>\n",
       "      <th>Symptom_7</th>\n",
       "      <th>Symptom_8</th>\n",
       "      <th>Symptom_9</th>\n",
       "      <th>Symptom_10</th>\n",
       "      <th>Symptom_11</th>\n",
       "      <th>Symptom_12</th>\n",
       "      <th>Symptom_13</th>\n",
       "      <th>Symptom_14</th>\n",
       "      <th>Symptom_15</th>\n",
       "      <th>Symptom_16</th>\n",
       "      <th>Symptom_17</th>\n",
       "    </tr>\n",
       "  </thead>\n",
       "  <tbody>\n",
       "    <tr>\n",
       "      <th>0</th>\n",
       "      <td>Fungal infection</td>\n",
       "      <td>itching</td>\n",
       "      <td>skin rash</td>\n",
       "      <td>nodal skin eruptions</td>\n",
       "      <td>dischromic  patches</td>\n",
       "      <td>NaN</td>\n",
       "      <td>NaN</td>\n",
       "      <td>NaN</td>\n",
       "      <td>NaN</td>\n",
       "      <td>NaN</td>\n",
       "      <td>NaN</td>\n",
       "      <td>NaN</td>\n",
       "      <td>NaN</td>\n",
       "      <td>NaN</td>\n",
       "      <td>NaN</td>\n",
       "      <td>NaN</td>\n",
       "      <td>NaN</td>\n",
       "      <td>NaN</td>\n",
       "    </tr>\n",
       "    <tr>\n",
       "      <th>1</th>\n",
       "      <td>Fungal infection</td>\n",
       "      <td>skin rash</td>\n",
       "      <td>nodal skin eruptions</td>\n",
       "      <td>dischromic  patches</td>\n",
       "      <td>NaN</td>\n",
       "      <td>NaN</td>\n",
       "      <td>NaN</td>\n",
       "      <td>NaN</td>\n",
       "      <td>NaN</td>\n",
       "      <td>NaN</td>\n",
       "      <td>NaN</td>\n",
       "      <td>NaN</td>\n",
       "      <td>NaN</td>\n",
       "      <td>NaN</td>\n",
       "      <td>NaN</td>\n",
       "      <td>NaN</td>\n",
       "      <td>NaN</td>\n",
       "      <td>NaN</td>\n",
       "    </tr>\n",
       "    <tr>\n",
       "      <th>2</th>\n",
       "      <td>Fungal infection</td>\n",
       "      <td>itching</td>\n",
       "      <td>nodal skin eruptions</td>\n",
       "      <td>dischromic  patches</td>\n",
       "      <td>NaN</td>\n",
       "      <td>NaN</td>\n",
       "      <td>NaN</td>\n",
       "      <td>NaN</td>\n",
       "      <td>NaN</td>\n",
       "      <td>NaN</td>\n",
       "      <td>NaN</td>\n",
       "      <td>NaN</td>\n",
       "      <td>NaN</td>\n",
       "      <td>NaN</td>\n",
       "      <td>NaN</td>\n",
       "      <td>NaN</td>\n",
       "      <td>NaN</td>\n",
       "      <td>NaN</td>\n",
       "    </tr>\n",
       "    <tr>\n",
       "      <th>3</th>\n",
       "      <td>Fungal infection</td>\n",
       "      <td>itching</td>\n",
       "      <td>skin rash</td>\n",
       "      <td>dischromic  patches</td>\n",
       "      <td>NaN</td>\n",
       "      <td>NaN</td>\n",
       "      <td>NaN</td>\n",
       "      <td>NaN</td>\n",
       "      <td>NaN</td>\n",
       "      <td>NaN</td>\n",
       "      <td>NaN</td>\n",
       "      <td>NaN</td>\n",
       "      <td>NaN</td>\n",
       "      <td>NaN</td>\n",
       "      <td>NaN</td>\n",
       "      <td>NaN</td>\n",
       "      <td>NaN</td>\n",
       "      <td>NaN</td>\n",
       "    </tr>\n",
       "    <tr>\n",
       "      <th>4</th>\n",
       "      <td>Fungal infection</td>\n",
       "      <td>itching</td>\n",
       "      <td>skin rash</td>\n",
       "      <td>nodal skin eruptions</td>\n",
       "      <td>NaN</td>\n",
       "      <td>NaN</td>\n",
       "      <td>NaN</td>\n",
       "      <td>NaN</td>\n",
       "      <td>NaN</td>\n",
       "      <td>NaN</td>\n",
       "      <td>NaN</td>\n",
       "      <td>NaN</td>\n",
       "      <td>NaN</td>\n",
       "      <td>NaN</td>\n",
       "      <td>NaN</td>\n",
       "      <td>NaN</td>\n",
       "      <td>NaN</td>\n",
       "      <td>NaN</td>\n",
       "    </tr>\n",
       "    <tr>\n",
       "      <th>...</th>\n",
       "      <td>...</td>\n",
       "      <td>...</td>\n",
       "      <td>...</td>\n",
       "      <td>...</td>\n",
       "      <td>...</td>\n",
       "      <td>...</td>\n",
       "      <td>...</td>\n",
       "      <td>...</td>\n",
       "      <td>...</td>\n",
       "      <td>...</td>\n",
       "      <td>...</td>\n",
       "      <td>...</td>\n",
       "      <td>...</td>\n",
       "      <td>...</td>\n",
       "      <td>...</td>\n",
       "      <td>...</td>\n",
       "      <td>...</td>\n",
       "      <td>...</td>\n",
       "    </tr>\n",
       "    <tr>\n",
       "      <th>4915</th>\n",
       "      <td>(vertigo) Paroymsal  Positional Vertigo</td>\n",
       "      <td>vomiting</td>\n",
       "      <td>headache</td>\n",
       "      <td>nausea</td>\n",
       "      <td>spinning movements</td>\n",
       "      <td>loss of balance</td>\n",
       "      <td>unsteadiness</td>\n",
       "      <td>NaN</td>\n",
       "      <td>NaN</td>\n",
       "      <td>NaN</td>\n",
       "      <td>NaN</td>\n",
       "      <td>NaN</td>\n",
       "      <td>NaN</td>\n",
       "      <td>NaN</td>\n",
       "      <td>NaN</td>\n",
       "      <td>NaN</td>\n",
       "      <td>NaN</td>\n",
       "      <td>NaN</td>\n",
       "    </tr>\n",
       "    <tr>\n",
       "      <th>4916</th>\n",
       "      <td>Acne</td>\n",
       "      <td>skin rash</td>\n",
       "      <td>pus filled pimples</td>\n",
       "      <td>blackheads</td>\n",
       "      <td>scurring</td>\n",
       "      <td>NaN</td>\n",
       "      <td>NaN</td>\n",
       "      <td>NaN</td>\n",
       "      <td>NaN</td>\n",
       "      <td>NaN</td>\n",
       "      <td>NaN</td>\n",
       "      <td>NaN</td>\n",
       "      <td>NaN</td>\n",
       "      <td>NaN</td>\n",
       "      <td>NaN</td>\n",
       "      <td>NaN</td>\n",
       "      <td>NaN</td>\n",
       "      <td>NaN</td>\n",
       "    </tr>\n",
       "    <tr>\n",
       "      <th>4917</th>\n",
       "      <td>Urinary tract infection</td>\n",
       "      <td>burning micturition</td>\n",
       "      <td>bladder discomfort</td>\n",
       "      <td>foul smell of urine</td>\n",
       "      <td>continuous feel of urine</td>\n",
       "      <td>NaN</td>\n",
       "      <td>NaN</td>\n",
       "      <td>NaN</td>\n",
       "      <td>NaN</td>\n",
       "      <td>NaN</td>\n",
       "      <td>NaN</td>\n",
       "      <td>NaN</td>\n",
       "      <td>NaN</td>\n",
       "      <td>NaN</td>\n",
       "      <td>NaN</td>\n",
       "      <td>NaN</td>\n",
       "      <td>NaN</td>\n",
       "      <td>NaN</td>\n",
       "    </tr>\n",
       "    <tr>\n",
       "      <th>4918</th>\n",
       "      <td>Psoriasis</td>\n",
       "      <td>skin rash</td>\n",
       "      <td>joint pain</td>\n",
       "      <td>skin peeling</td>\n",
       "      <td>silver like dusting</td>\n",
       "      <td>small dents in nails</td>\n",
       "      <td>inflammatory nails</td>\n",
       "      <td>NaN</td>\n",
       "      <td>NaN</td>\n",
       "      <td>NaN</td>\n",
       "      <td>NaN</td>\n",
       "      <td>NaN</td>\n",
       "      <td>NaN</td>\n",
       "      <td>NaN</td>\n",
       "      <td>NaN</td>\n",
       "      <td>NaN</td>\n",
       "      <td>NaN</td>\n",
       "      <td>NaN</td>\n",
       "    </tr>\n",
       "    <tr>\n",
       "      <th>4919</th>\n",
       "      <td>Impetigo</td>\n",
       "      <td>skin rash</td>\n",
       "      <td>high fever</td>\n",
       "      <td>blister</td>\n",
       "      <td>red sore around nose</td>\n",
       "      <td>yellow crust ooze</td>\n",
       "      <td>NaN</td>\n",
       "      <td>NaN</td>\n",
       "      <td>NaN</td>\n",
       "      <td>NaN</td>\n",
       "      <td>NaN</td>\n",
       "      <td>NaN</td>\n",
       "      <td>NaN</td>\n",
       "      <td>NaN</td>\n",
       "      <td>NaN</td>\n",
       "      <td>NaN</td>\n",
       "      <td>NaN</td>\n",
       "      <td>NaN</td>\n",
       "    </tr>\n",
       "  </tbody>\n",
       "</table>\n",
       "<p>4920 rows × 18 columns</p>\n",
       "</div>"
      ],
      "text/plain": [
       "                                      Disease            Symptom_1  \\\n",
       "0                            Fungal infection              itching   \n",
       "1                            Fungal infection            skin rash   \n",
       "2                            Fungal infection              itching   \n",
       "3                            Fungal infection              itching   \n",
       "4                            Fungal infection              itching   \n",
       "...                                       ...                  ...   \n",
       "4915  (vertigo) Paroymsal  Positional Vertigo             vomiting   \n",
       "4916                                     Acne            skin rash   \n",
       "4917                  Urinary tract infection  burning micturition   \n",
       "4918                                Psoriasis            skin rash   \n",
       "4919                                 Impetigo            skin rash   \n",
       "\n",
       "                 Symptom_2             Symptom_3                 Symptom_4  \\\n",
       "0                skin rash  nodal skin eruptions       dischromic  patches   \n",
       "1     nodal skin eruptions   dischromic  patches                       NaN   \n",
       "2     nodal skin eruptions   dischromic  patches                       NaN   \n",
       "3                skin rash   dischromic  patches                       NaN   \n",
       "4                skin rash  nodal skin eruptions                       NaN   \n",
       "...                    ...                   ...                       ...   \n",
       "4915              headache                nausea        spinning movements   \n",
       "4916    pus filled pimples            blackheads                  scurring   \n",
       "4917    bladder discomfort   foul smell of urine  continuous feel of urine   \n",
       "4918            joint pain          skin peeling       silver like dusting   \n",
       "4919            high fever               blister      red sore around nose   \n",
       "\n",
       "                 Symptom_5           Symptom_6 Symptom_7 Symptom_8 Symptom_9  \\\n",
       "0                      NaN                 NaN       NaN       NaN       NaN   \n",
       "1                      NaN                 NaN       NaN       NaN       NaN   \n",
       "2                      NaN                 NaN       NaN       NaN       NaN   \n",
       "3                      NaN                 NaN       NaN       NaN       NaN   \n",
       "4                      NaN                 NaN       NaN       NaN       NaN   \n",
       "...                    ...                 ...       ...       ...       ...   \n",
       "4915       loss of balance        unsteadiness       NaN       NaN       NaN   \n",
       "4916                   NaN                 NaN       NaN       NaN       NaN   \n",
       "4917                   NaN                 NaN       NaN       NaN       NaN   \n",
       "4918  small dents in nails  inflammatory nails       NaN       NaN       NaN   \n",
       "4919     yellow crust ooze                 NaN       NaN       NaN       NaN   \n",
       "\n",
       "     Symptom_10 Symptom_11 Symptom_12 Symptom_13 Symptom_14 Symptom_15  \\\n",
       "0           NaN        NaN        NaN        NaN        NaN        NaN   \n",
       "1           NaN        NaN        NaN        NaN        NaN        NaN   \n",
       "2           NaN        NaN        NaN        NaN        NaN        NaN   \n",
       "3           NaN        NaN        NaN        NaN        NaN        NaN   \n",
       "4           NaN        NaN        NaN        NaN        NaN        NaN   \n",
       "...         ...        ...        ...        ...        ...        ...   \n",
       "4915        NaN        NaN        NaN        NaN        NaN        NaN   \n",
       "4916        NaN        NaN        NaN        NaN        NaN        NaN   \n",
       "4917        NaN        NaN        NaN        NaN        NaN        NaN   \n",
       "4918        NaN        NaN        NaN        NaN        NaN        NaN   \n",
       "4919        NaN        NaN        NaN        NaN        NaN        NaN   \n",
       "\n",
       "     Symptom_16 Symptom_17  \n",
       "0           NaN        NaN  \n",
       "1           NaN        NaN  \n",
       "2           NaN        NaN  \n",
       "3           NaN        NaN  \n",
       "4           NaN        NaN  \n",
       "...         ...        ...  \n",
       "4915        NaN        NaN  \n",
       "4916        NaN        NaN  \n",
       "4917        NaN        NaN  \n",
       "4918        NaN        NaN  \n",
       "4919        NaN        NaN  \n",
       "\n",
       "[4920 rows x 18 columns]"
      ]
     },
     "execution_count": 18,
     "metadata": {},
     "output_type": "execute_result"
    }
   ],
   "source": [
    "df"
   ]
  },
  {
   "cell_type": "code",
   "execution_count": 19,
   "metadata": {},
   "outputs": [],
   "source": [
    "#filling nan value with 0\n",
    "df.fillna(0,inplace=True)"
   ]
  },
  {
   "cell_type": "code",
   "execution_count": 20,
   "metadata": {},
   "outputs": [
    {
     "data": {
      "text/html": [
       "<div>\n",
       "<style scoped>\n",
       "    .dataframe tbody tr th:only-of-type {\n",
       "        vertical-align: middle;\n",
       "    }\n",
       "\n",
       "    .dataframe tbody tr th {\n",
       "        vertical-align: top;\n",
       "    }\n",
       "\n",
       "    .dataframe thead th {\n",
       "        text-align: right;\n",
       "    }\n",
       "</style>\n",
       "<table border=\"1\" class=\"dataframe\">\n",
       "  <thead>\n",
       "    <tr style=\"text-align: right;\">\n",
       "      <th></th>\n",
       "      <th>Disease</th>\n",
       "      <th>Symptom_1</th>\n",
       "      <th>Symptom_2</th>\n",
       "      <th>Symptom_3</th>\n",
       "      <th>Symptom_4</th>\n",
       "      <th>Symptom_5</th>\n",
       "      <th>Symptom_6</th>\n",
       "      <th>Symptom_7</th>\n",
       "      <th>Symptom_8</th>\n",
       "      <th>Symptom_9</th>\n",
       "      <th>Symptom_10</th>\n",
       "      <th>Symptom_11</th>\n",
       "      <th>Symptom_12</th>\n",
       "      <th>Symptom_13</th>\n",
       "      <th>Symptom_14</th>\n",
       "      <th>Symptom_15</th>\n",
       "      <th>Symptom_16</th>\n",
       "      <th>Symptom_17</th>\n",
       "    </tr>\n",
       "  </thead>\n",
       "  <tbody>\n",
       "    <tr>\n",
       "      <th>0</th>\n",
       "      <td>Fungal infection</td>\n",
       "      <td>itching</td>\n",
       "      <td>skin rash</td>\n",
       "      <td>nodal skin eruptions</td>\n",
       "      <td>dischromic  patches</td>\n",
       "      <td>0</td>\n",
       "      <td>0</td>\n",
       "      <td>0</td>\n",
       "      <td>0</td>\n",
       "      <td>0</td>\n",
       "      <td>0</td>\n",
       "      <td>0</td>\n",
       "      <td>0</td>\n",
       "      <td>0</td>\n",
       "      <td>0</td>\n",
       "      <td>0</td>\n",
       "      <td>0</td>\n",
       "      <td>0</td>\n",
       "    </tr>\n",
       "    <tr>\n",
       "      <th>1</th>\n",
       "      <td>Fungal infection</td>\n",
       "      <td>skin rash</td>\n",
       "      <td>nodal skin eruptions</td>\n",
       "      <td>dischromic  patches</td>\n",
       "      <td>0</td>\n",
       "      <td>0</td>\n",
       "      <td>0</td>\n",
       "      <td>0</td>\n",
       "      <td>0</td>\n",
       "      <td>0</td>\n",
       "      <td>0</td>\n",
       "      <td>0</td>\n",
       "      <td>0</td>\n",
       "      <td>0</td>\n",
       "      <td>0</td>\n",
       "      <td>0</td>\n",
       "      <td>0</td>\n",
       "      <td>0</td>\n",
       "    </tr>\n",
       "    <tr>\n",
       "      <th>2</th>\n",
       "      <td>Fungal infection</td>\n",
       "      <td>itching</td>\n",
       "      <td>nodal skin eruptions</td>\n",
       "      <td>dischromic  patches</td>\n",
       "      <td>0</td>\n",
       "      <td>0</td>\n",
       "      <td>0</td>\n",
       "      <td>0</td>\n",
       "      <td>0</td>\n",
       "      <td>0</td>\n",
       "      <td>0</td>\n",
       "      <td>0</td>\n",
       "      <td>0</td>\n",
       "      <td>0</td>\n",
       "      <td>0</td>\n",
       "      <td>0</td>\n",
       "      <td>0</td>\n",
       "      <td>0</td>\n",
       "    </tr>\n",
       "    <tr>\n",
       "      <th>3</th>\n",
       "      <td>Fungal infection</td>\n",
       "      <td>itching</td>\n",
       "      <td>skin rash</td>\n",
       "      <td>dischromic  patches</td>\n",
       "      <td>0</td>\n",
       "      <td>0</td>\n",
       "      <td>0</td>\n",
       "      <td>0</td>\n",
       "      <td>0</td>\n",
       "      <td>0</td>\n",
       "      <td>0</td>\n",
       "      <td>0</td>\n",
       "      <td>0</td>\n",
       "      <td>0</td>\n",
       "      <td>0</td>\n",
       "      <td>0</td>\n",
       "      <td>0</td>\n",
       "      <td>0</td>\n",
       "    </tr>\n",
       "    <tr>\n",
       "      <th>4</th>\n",
       "      <td>Fungal infection</td>\n",
       "      <td>itching</td>\n",
       "      <td>skin rash</td>\n",
       "      <td>nodal skin eruptions</td>\n",
       "      <td>0</td>\n",
       "      <td>0</td>\n",
       "      <td>0</td>\n",
       "      <td>0</td>\n",
       "      <td>0</td>\n",
       "      <td>0</td>\n",
       "      <td>0</td>\n",
       "      <td>0</td>\n",
       "      <td>0</td>\n",
       "      <td>0</td>\n",
       "      <td>0</td>\n",
       "      <td>0</td>\n",
       "      <td>0</td>\n",
       "      <td>0</td>\n",
       "    </tr>\n",
       "  </tbody>\n",
       "</table>\n",
       "</div>"
      ],
      "text/plain": [
       "            Disease  Symptom_1             Symptom_2             Symptom_3  \\\n",
       "0  Fungal infection    itching             skin rash  nodal skin eruptions   \n",
       "1  Fungal infection  skin rash  nodal skin eruptions   dischromic  patches   \n",
       "2  Fungal infection    itching  nodal skin eruptions   dischromic  patches   \n",
       "3  Fungal infection    itching             skin rash   dischromic  patches   \n",
       "4  Fungal infection    itching             skin rash  nodal skin eruptions   \n",
       "\n",
       "             Symptom_4 Symptom_5 Symptom_6 Symptom_7 Symptom_8 Symptom_9  \\\n",
       "0  dischromic  patches         0         0         0         0         0   \n",
       "1                    0         0         0         0         0         0   \n",
       "2                    0         0         0         0         0         0   \n",
       "3                    0         0         0         0         0         0   \n",
       "4                    0         0         0         0         0         0   \n",
       "\n",
       "  Symptom_10 Symptom_11 Symptom_12 Symptom_13 Symptom_14 Symptom_15  \\\n",
       "0          0          0          0          0          0          0   \n",
       "1          0          0          0          0          0          0   \n",
       "2          0          0          0          0          0          0   \n",
       "3          0          0          0          0          0          0   \n",
       "4          0          0          0          0          0          0   \n",
       "\n",
       "  Symptom_16 Symptom_17  \n",
       "0          0          0  \n",
       "1          0          0  \n",
       "2          0          0  \n",
       "3          0          0  \n",
       "4          0          0  "
      ]
     },
     "execution_count": 20,
     "metadata": {},
     "output_type": "execute_result"
    }
   ],
   "source": [
    "df.head()"
   ]
  },
  {
   "cell_type": "code",
   "execution_count": 21,
   "metadata": {},
   "outputs": [],
   "source": [
    "#exploring the symptoms severity which was also provided in another dataset"
   ]
  },
  {
   "cell_type": "code",
   "execution_count": 22,
   "metadata": {},
   "outputs": [],
   "source": [
    "df_severity = pd.read_csv('./datasets/Symptom-severity.csv')"
   ]
  },
  {
   "cell_type": "code",
   "execution_count": 23,
   "metadata": {},
   "outputs": [
    {
     "data": {
      "text/html": [
       "<div>\n",
       "<style scoped>\n",
       "    .dataframe tbody tr th:only-of-type {\n",
       "        vertical-align: middle;\n",
       "    }\n",
       "\n",
       "    .dataframe tbody tr th {\n",
       "        vertical-align: top;\n",
       "    }\n",
       "\n",
       "    .dataframe thead th {\n",
       "        text-align: right;\n",
       "    }\n",
       "</style>\n",
       "<table border=\"1\" class=\"dataframe\">\n",
       "  <thead>\n",
       "    <tr style=\"text-align: right;\">\n",
       "      <th></th>\n",
       "      <th>Symptom</th>\n",
       "      <th>weight</th>\n",
       "    </tr>\n",
       "  </thead>\n",
       "  <tbody>\n",
       "    <tr>\n",
       "      <th>0</th>\n",
       "      <td>itching</td>\n",
       "      <td>1</td>\n",
       "    </tr>\n",
       "    <tr>\n",
       "      <th>1</th>\n",
       "      <td>skin_rash</td>\n",
       "      <td>3</td>\n",
       "    </tr>\n",
       "    <tr>\n",
       "      <th>2</th>\n",
       "      <td>nodal_skin_eruptions</td>\n",
       "      <td>4</td>\n",
       "    </tr>\n",
       "    <tr>\n",
       "      <th>3</th>\n",
       "      <td>continuous_sneezing</td>\n",
       "      <td>4</td>\n",
       "    </tr>\n",
       "    <tr>\n",
       "      <th>4</th>\n",
       "      <td>shivering</td>\n",
       "      <td>5</td>\n",
       "    </tr>\n",
       "  </tbody>\n",
       "</table>\n",
       "</div>"
      ],
      "text/plain": [
       "                Symptom  weight\n",
       "0               itching       1\n",
       "1             skin_rash       3\n",
       "2  nodal_skin_eruptions       4\n",
       "3   continuous_sneezing       4\n",
       "4             shivering       5"
      ]
     },
     "execution_count": 23,
     "metadata": {},
     "output_type": "execute_result"
    }
   ],
   "source": [
    "df_severity.head()"
   ]
  },
  {
   "cell_type": "code",
   "execution_count": 24,
   "metadata": {},
   "outputs": [],
   "source": [
    "#replacing the Symptopms '_' with ' ' blank space\n",
    "df_severity['Symptom'] = df_severity['Symptom'].str.replace('_',' ')"
   ]
  },
  {
   "cell_type": "code",
   "execution_count": 25,
   "metadata": {},
   "outputs": [
    {
     "data": {
      "text/html": [
       "<div>\n",
       "<style scoped>\n",
       "    .dataframe tbody tr th:only-of-type {\n",
       "        vertical-align: middle;\n",
       "    }\n",
       "\n",
       "    .dataframe tbody tr th {\n",
       "        vertical-align: top;\n",
       "    }\n",
       "\n",
       "    .dataframe thead th {\n",
       "        text-align: right;\n",
       "    }\n",
       "</style>\n",
       "<table border=\"1\" class=\"dataframe\">\n",
       "  <thead>\n",
       "    <tr style=\"text-align: right;\">\n",
       "      <th></th>\n",
       "      <th>Symptom</th>\n",
       "      <th>weight</th>\n",
       "    </tr>\n",
       "  </thead>\n",
       "  <tbody>\n",
       "    <tr>\n",
       "      <th>0</th>\n",
       "      <td>itching</td>\n",
       "      <td>1</td>\n",
       "    </tr>\n",
       "    <tr>\n",
       "      <th>1</th>\n",
       "      <td>skin rash</td>\n",
       "      <td>3</td>\n",
       "    </tr>\n",
       "    <tr>\n",
       "      <th>2</th>\n",
       "      <td>nodal skin eruptions</td>\n",
       "      <td>4</td>\n",
       "    </tr>\n",
       "    <tr>\n",
       "      <th>3</th>\n",
       "      <td>continuous sneezing</td>\n",
       "      <td>4</td>\n",
       "    </tr>\n",
       "    <tr>\n",
       "      <th>4</th>\n",
       "      <td>shivering</td>\n",
       "      <td>5</td>\n",
       "    </tr>\n",
       "  </tbody>\n",
       "</table>\n",
       "</div>"
      ],
      "text/plain": [
       "                Symptom  weight\n",
       "0               itching       1\n",
       "1             skin rash       3\n",
       "2  nodal skin eruptions       4\n",
       "3   continuous sneezing       4\n",
       "4             shivering       5"
      ]
     },
     "execution_count": 25,
     "metadata": {},
     "output_type": "execute_result"
    }
   ],
   "source": [
    "df_severity.head()"
   ]
  },
  {
   "cell_type": "code",
   "execution_count": 26,
   "metadata": {},
   "outputs": [],
   "source": [
    "#encoding the df_severity weight value in our df dataframe value"
   ]
  },
  {
   "cell_type": "code",
   "execution_count": 27,
   "metadata": {},
   "outputs": [],
   "source": [
    "vals = df.values"
   ]
  },
  {
   "cell_type": "code",
   "execution_count": 28,
   "metadata": {},
   "outputs": [],
   "source": [
    "symptoms = df_severity['Symptom'].unique()"
   ]
  },
  {
   "cell_type": "code",
   "execution_count": 29,
   "metadata": {},
   "outputs": [],
   "source": [
    "for i in range(len(symptoms)):\n",
    "    vals[vals==symptoms[i]] = df_severity[df_severity['Symptom']==symptoms[i]]['weight'].values[0]"
   ]
  },
  {
   "cell_type": "code",
   "execution_count": 30,
   "metadata": {},
   "outputs": [
    {
     "data": {
      "text/plain": [
       "array([['Fungal infection', 1, 3, ..., 0, 0, 0],\n",
       "       ['Fungal infection', 3, 4, ..., 0, 0, 0],\n",
       "       ['Fungal infection', 1, 4, ..., 0, 0, 0],\n",
       "       ...,\n",
       "       ['Urinary tract infection', 6, 4, ..., 0, 0, 0],\n",
       "       ['Psoriasis', 3, 3, ..., 0, 0, 0],\n",
       "       ['Impetigo', 3, 7, ..., 0, 0, 0]], dtype=object)"
      ]
     },
     "execution_count": 30,
     "metadata": {},
     "output_type": "execute_result"
    }
   ],
   "source": [
    "vals"
   ]
  },
  {
   "cell_type": "code",
   "execution_count": 31,
   "metadata": {},
   "outputs": [],
   "source": [
    "#converting the vals into pandas dataframe\n",
    "df_processed = pd.DataFrame(vals,columns=cols)"
   ]
  },
  {
   "cell_type": "code",
   "execution_count": 32,
   "metadata": {},
   "outputs": [
    {
     "data": {
      "text/html": [
       "<div>\n",
       "<style scoped>\n",
       "    .dataframe tbody tr th:only-of-type {\n",
       "        vertical-align: middle;\n",
       "    }\n",
       "\n",
       "    .dataframe tbody tr th {\n",
       "        vertical-align: top;\n",
       "    }\n",
       "\n",
       "    .dataframe thead th {\n",
       "        text-align: right;\n",
       "    }\n",
       "</style>\n",
       "<table border=\"1\" class=\"dataframe\">\n",
       "  <thead>\n",
       "    <tr style=\"text-align: right;\">\n",
       "      <th></th>\n",
       "      <th>Disease</th>\n",
       "      <th>Symptom_1</th>\n",
       "      <th>Symptom_2</th>\n",
       "      <th>Symptom_3</th>\n",
       "      <th>Symptom_4</th>\n",
       "      <th>Symptom_5</th>\n",
       "      <th>Symptom_6</th>\n",
       "      <th>Symptom_7</th>\n",
       "      <th>Symptom_8</th>\n",
       "      <th>Symptom_9</th>\n",
       "      <th>Symptom_10</th>\n",
       "      <th>Symptom_11</th>\n",
       "      <th>Symptom_12</th>\n",
       "      <th>Symptom_13</th>\n",
       "      <th>Symptom_14</th>\n",
       "      <th>Symptom_15</th>\n",
       "      <th>Symptom_16</th>\n",
       "      <th>Symptom_17</th>\n",
       "    </tr>\n",
       "  </thead>\n",
       "  <tbody>\n",
       "    <tr>\n",
       "      <th>0</th>\n",
       "      <td>Fungal infection</td>\n",
       "      <td>1</td>\n",
       "      <td>3</td>\n",
       "      <td>4</td>\n",
       "      <td>dischromic  patches</td>\n",
       "      <td>0</td>\n",
       "      <td>0</td>\n",
       "      <td>0</td>\n",
       "      <td>0</td>\n",
       "      <td>0</td>\n",
       "      <td>0</td>\n",
       "      <td>0</td>\n",
       "      <td>0</td>\n",
       "      <td>0</td>\n",
       "      <td>0</td>\n",
       "      <td>0</td>\n",
       "      <td>0</td>\n",
       "      <td>0</td>\n",
       "    </tr>\n",
       "    <tr>\n",
       "      <th>1</th>\n",
       "      <td>Fungal infection</td>\n",
       "      <td>3</td>\n",
       "      <td>4</td>\n",
       "      <td>dischromic  patches</td>\n",
       "      <td>0</td>\n",
       "      <td>0</td>\n",
       "      <td>0</td>\n",
       "      <td>0</td>\n",
       "      <td>0</td>\n",
       "      <td>0</td>\n",
       "      <td>0</td>\n",
       "      <td>0</td>\n",
       "      <td>0</td>\n",
       "      <td>0</td>\n",
       "      <td>0</td>\n",
       "      <td>0</td>\n",
       "      <td>0</td>\n",
       "      <td>0</td>\n",
       "    </tr>\n",
       "    <tr>\n",
       "      <th>2</th>\n",
       "      <td>Fungal infection</td>\n",
       "      <td>1</td>\n",
       "      <td>4</td>\n",
       "      <td>dischromic  patches</td>\n",
       "      <td>0</td>\n",
       "      <td>0</td>\n",
       "      <td>0</td>\n",
       "      <td>0</td>\n",
       "      <td>0</td>\n",
       "      <td>0</td>\n",
       "      <td>0</td>\n",
       "      <td>0</td>\n",
       "      <td>0</td>\n",
       "      <td>0</td>\n",
       "      <td>0</td>\n",
       "      <td>0</td>\n",
       "      <td>0</td>\n",
       "      <td>0</td>\n",
       "    </tr>\n",
       "    <tr>\n",
       "      <th>3</th>\n",
       "      <td>Fungal infection</td>\n",
       "      <td>1</td>\n",
       "      <td>3</td>\n",
       "      <td>dischromic  patches</td>\n",
       "      <td>0</td>\n",
       "      <td>0</td>\n",
       "      <td>0</td>\n",
       "      <td>0</td>\n",
       "      <td>0</td>\n",
       "      <td>0</td>\n",
       "      <td>0</td>\n",
       "      <td>0</td>\n",
       "      <td>0</td>\n",
       "      <td>0</td>\n",
       "      <td>0</td>\n",
       "      <td>0</td>\n",
       "      <td>0</td>\n",
       "      <td>0</td>\n",
       "    </tr>\n",
       "    <tr>\n",
       "      <th>4</th>\n",
       "      <td>Fungal infection</td>\n",
       "      <td>1</td>\n",
       "      <td>3</td>\n",
       "      <td>4</td>\n",
       "      <td>0</td>\n",
       "      <td>0</td>\n",
       "      <td>0</td>\n",
       "      <td>0</td>\n",
       "      <td>0</td>\n",
       "      <td>0</td>\n",
       "      <td>0</td>\n",
       "      <td>0</td>\n",
       "      <td>0</td>\n",
       "      <td>0</td>\n",
       "      <td>0</td>\n",
       "      <td>0</td>\n",
       "      <td>0</td>\n",
       "      <td>0</td>\n",
       "    </tr>\n",
       "  </tbody>\n",
       "</table>\n",
       "</div>"
      ],
      "text/plain": [
       "            Disease Symptom_1 Symptom_2            Symptom_3  \\\n",
       "0  Fungal infection         1         3                    4   \n",
       "1  Fungal infection         3         4  dischromic  patches   \n",
       "2  Fungal infection         1         4  dischromic  patches   \n",
       "3  Fungal infection         1         3  dischromic  patches   \n",
       "4  Fungal infection         1         3                    4   \n",
       "\n",
       "             Symptom_4 Symptom_5 Symptom_6 Symptom_7 Symptom_8 Symptom_9  \\\n",
       "0  dischromic  patches         0         0         0         0         0   \n",
       "1                    0         0         0         0         0         0   \n",
       "2                    0         0         0         0         0         0   \n",
       "3                    0         0         0         0         0         0   \n",
       "4                    0         0         0         0         0         0   \n",
       "\n",
       "  Symptom_10 Symptom_11 Symptom_12 Symptom_13 Symptom_14 Symptom_15  \\\n",
       "0          0          0          0          0          0          0   \n",
       "1          0          0          0          0          0          0   \n",
       "2          0          0          0          0          0          0   \n",
       "3          0          0          0          0          0          0   \n",
       "4          0          0          0          0          0          0   \n",
       "\n",
       "  Symptom_16 Symptom_17  \n",
       "0          0          0  \n",
       "1          0          0  \n",
       "2          0          0  \n",
       "3          0          0  \n",
       "4          0          0  "
      ]
     },
     "execution_count": 32,
     "metadata": {},
     "output_type": "execute_result"
    }
   ],
   "source": [
    "df_processed.head()"
   ]
  },
  {
   "cell_type": "code",
   "execution_count": 33,
   "metadata": {},
   "outputs": [],
   "source": [
    "#as we can see there are still some symptoms with string datatypes so first we need to check how many of are them"
   ]
  },
  {
   "cell_type": "code",
   "execution_count": 34,
   "metadata": {},
   "outputs": [
    {
     "name": "stdout",
     "output_type": "stream",
     "text": [
      "['Fungal infection' 'Allergy' 'GERD' 'Chronic cholestasis' 'Drug Reaction'\n",
      " 'Peptic ulcer diseae' 'AIDS' 'Diabetes' 'Gastroenteritis'\n",
      " 'Bronchial Asthma' 'Hypertension' 'Migraine' 'Cervical spondylosis'\n",
      " 'Paralysis (brain hemorrhage)' 'Jaundice' 'Malaria' 'Chicken pox'\n",
      " 'Dengue' 'Typhoid' 'hepatitis A' 'Hepatitis B' 'Hepatitis C'\n",
      " 'Hepatitis D' 'Hepatitis E' 'Alcoholic hepatitis' 'Tuberculosis'\n",
      " 'Common Cold' 'Pneumonia' 'Dimorphic hemmorhoids(piles)' 'Heart attack'\n",
      " 'Varicose veins' 'Hypothyroidism' 'Hyperthyroidism' 'Hypoglycemia'\n",
      " 'Osteoarthristis' 'Arthritis' '(vertigo) Paroymsal  Positional Vertigo'\n",
      " 'Acne' 'Urinary tract infection' 'Psoriasis' 'Impetigo']\n",
      "[1 3 4 5 6 7 2]\n",
      "[3 4 5 6 7 2 'foul smell of urine']\n",
      "[4 'dischromic  patches' 3 5 6 7 2 'foul smell of urine']\n",
      "['dischromic  patches' 0 4 5 6 'spotting  urination' 2 3 7]\n",
      "[0 4 7 'spotting  urination' 5 3 6 2]\n",
      "[0 7 4 5 3 6 2]\n",
      "[0 4 3 2 6 5]\n",
      "[0 4 5 2 3 6 7]\n",
      "[0 5 4 3 6 7 2]\n",
      "[0 4 6 3 5 2]\n",
      "[0 3 6 4 2 5 7]\n",
      "[0 2 6 7 4 5]\n",
      "[0 3 2 6 5]\n",
      "[0 3 5 7]\n",
      "[0 7 5 3]\n",
      "[0 5 3 2]\n",
      "[0 2]\n"
     ]
    }
   ],
   "source": [
    "for col in df_processed.columns:\n",
    "    print(df_processed[col].unique())"
   ]
  },
  {
   "cell_type": "code",
   "execution_count": 35,
   "metadata": {},
   "outputs": [],
   "source": [
    "#as we can see in features there are altogether 3 string values which had no weights so we are replacing theur value with 0"
   ]
  },
  {
   "cell_type": "code",
   "execution_count": 36,
   "metadata": {},
   "outputs": [],
   "source": [
    "df_processed = df_processed.replace('dischromic  patches', 0)\n",
    "df_processed = df_processed.replace('spotting  urination', 0)\n",
    "df_processed = df_processed.replace('foul smell of urine', 0)"
   ]
  },
  {
   "cell_type": "markdown",
   "metadata": {},
   "source": [
    "### Spliting the dataset"
   ]
  },
  {
   "cell_type": "code",
   "execution_count": 37,
   "metadata": {},
   "outputs": [],
   "source": [
    "X= df_processed.drop('Disease',axis=1)"
   ]
  },
  {
   "cell_type": "code",
   "execution_count": 38,
   "metadata": {},
   "outputs": [],
   "source": [
    "y = df_processed['Disease']"
   ]
  },
  {
   "cell_type": "code",
   "execution_count": 39,
   "metadata": {},
   "outputs": [],
   "source": [
    "#checking X and y values"
   ]
  },
  {
   "cell_type": "code",
   "execution_count": 40,
   "metadata": {},
   "outputs": [
    {
     "data": {
      "text/html": [
       "<div>\n",
       "<style scoped>\n",
       "    .dataframe tbody tr th:only-of-type {\n",
       "        vertical-align: middle;\n",
       "    }\n",
       "\n",
       "    .dataframe tbody tr th {\n",
       "        vertical-align: top;\n",
       "    }\n",
       "\n",
       "    .dataframe thead th {\n",
       "        text-align: right;\n",
       "    }\n",
       "</style>\n",
       "<table border=\"1\" class=\"dataframe\">\n",
       "  <thead>\n",
       "    <tr style=\"text-align: right;\">\n",
       "      <th></th>\n",
       "      <th>Symptom_1</th>\n",
       "      <th>Symptom_2</th>\n",
       "      <th>Symptom_3</th>\n",
       "      <th>Symptom_4</th>\n",
       "      <th>Symptom_5</th>\n",
       "      <th>Symptom_6</th>\n",
       "      <th>Symptom_7</th>\n",
       "      <th>Symptom_8</th>\n",
       "      <th>Symptom_9</th>\n",
       "      <th>Symptom_10</th>\n",
       "      <th>Symptom_11</th>\n",
       "      <th>Symptom_12</th>\n",
       "      <th>Symptom_13</th>\n",
       "      <th>Symptom_14</th>\n",
       "      <th>Symptom_15</th>\n",
       "      <th>Symptom_16</th>\n",
       "      <th>Symptom_17</th>\n",
       "    </tr>\n",
       "  </thead>\n",
       "  <tbody>\n",
       "    <tr>\n",
       "      <th>0</th>\n",
       "      <td>1</td>\n",
       "      <td>3</td>\n",
       "      <td>4</td>\n",
       "      <td>0</td>\n",
       "      <td>0</td>\n",
       "      <td>0</td>\n",
       "      <td>0</td>\n",
       "      <td>0</td>\n",
       "      <td>0</td>\n",
       "      <td>0</td>\n",
       "      <td>0</td>\n",
       "      <td>0</td>\n",
       "      <td>0</td>\n",
       "      <td>0</td>\n",
       "      <td>0</td>\n",
       "      <td>0</td>\n",
       "      <td>0</td>\n",
       "    </tr>\n",
       "    <tr>\n",
       "      <th>1</th>\n",
       "      <td>3</td>\n",
       "      <td>4</td>\n",
       "      <td>0</td>\n",
       "      <td>0</td>\n",
       "      <td>0</td>\n",
       "      <td>0</td>\n",
       "      <td>0</td>\n",
       "      <td>0</td>\n",
       "      <td>0</td>\n",
       "      <td>0</td>\n",
       "      <td>0</td>\n",
       "      <td>0</td>\n",
       "      <td>0</td>\n",
       "      <td>0</td>\n",
       "      <td>0</td>\n",
       "      <td>0</td>\n",
       "      <td>0</td>\n",
       "    </tr>\n",
       "    <tr>\n",
       "      <th>2</th>\n",
       "      <td>1</td>\n",
       "      <td>4</td>\n",
       "      <td>0</td>\n",
       "      <td>0</td>\n",
       "      <td>0</td>\n",
       "      <td>0</td>\n",
       "      <td>0</td>\n",
       "      <td>0</td>\n",
       "      <td>0</td>\n",
       "      <td>0</td>\n",
       "      <td>0</td>\n",
       "      <td>0</td>\n",
       "      <td>0</td>\n",
       "      <td>0</td>\n",
       "      <td>0</td>\n",
       "      <td>0</td>\n",
       "      <td>0</td>\n",
       "    </tr>\n",
       "    <tr>\n",
       "      <th>3</th>\n",
       "      <td>1</td>\n",
       "      <td>3</td>\n",
       "      <td>0</td>\n",
       "      <td>0</td>\n",
       "      <td>0</td>\n",
       "      <td>0</td>\n",
       "      <td>0</td>\n",
       "      <td>0</td>\n",
       "      <td>0</td>\n",
       "      <td>0</td>\n",
       "      <td>0</td>\n",
       "      <td>0</td>\n",
       "      <td>0</td>\n",
       "      <td>0</td>\n",
       "      <td>0</td>\n",
       "      <td>0</td>\n",
       "      <td>0</td>\n",
       "    </tr>\n",
       "    <tr>\n",
       "      <th>4</th>\n",
       "      <td>1</td>\n",
       "      <td>3</td>\n",
       "      <td>4</td>\n",
       "      <td>0</td>\n",
       "      <td>0</td>\n",
       "      <td>0</td>\n",
       "      <td>0</td>\n",
       "      <td>0</td>\n",
       "      <td>0</td>\n",
       "      <td>0</td>\n",
       "      <td>0</td>\n",
       "      <td>0</td>\n",
       "      <td>0</td>\n",
       "      <td>0</td>\n",
       "      <td>0</td>\n",
       "      <td>0</td>\n",
       "      <td>0</td>\n",
       "    </tr>\n",
       "  </tbody>\n",
       "</table>\n",
       "</div>"
      ],
      "text/plain": [
       "   Symptom_1  Symptom_2  Symptom_3  Symptom_4  Symptom_5  Symptom_6  \\\n",
       "0          1          3          4          0          0          0   \n",
       "1          3          4          0          0          0          0   \n",
       "2          1          4          0          0          0          0   \n",
       "3          1          3          0          0          0          0   \n",
       "4          1          3          4          0          0          0   \n",
       "\n",
       "   Symptom_7  Symptom_8  Symptom_9  Symptom_10  Symptom_11  Symptom_12  \\\n",
       "0          0          0          0           0           0           0   \n",
       "1          0          0          0           0           0           0   \n",
       "2          0          0          0           0           0           0   \n",
       "3          0          0          0           0           0           0   \n",
       "4          0          0          0           0           0           0   \n",
       "\n",
       "   Symptom_13  Symptom_14  Symptom_15  Symptom_16  Symptom_17  \n",
       "0           0           0           0           0           0  \n",
       "1           0           0           0           0           0  \n",
       "2           0           0           0           0           0  \n",
       "3           0           0           0           0           0  \n",
       "4           0           0           0           0           0  "
      ]
     },
     "execution_count": 40,
     "metadata": {},
     "output_type": "execute_result"
    }
   ],
   "source": [
    "X.head()"
   ]
  },
  {
   "cell_type": "code",
   "execution_count": 41,
   "metadata": {},
   "outputs": [
    {
     "data": {
      "text/plain": [
       "0    Fungal infection\n",
       "1    Fungal infection\n",
       "2    Fungal infection\n",
       "3    Fungal infection\n",
       "4    Fungal infection\n",
       "Name: Disease, dtype: object"
      ]
     },
     "execution_count": 41,
     "metadata": {},
     "output_type": "execute_result"
    }
   ],
   "source": [
    "y.head()"
   ]
  },
  {
   "cell_type": "code",
   "execution_count": 42,
   "metadata": {},
   "outputs": [],
   "source": [
    "#spliting the datasets into training and testing"
   ]
  },
  {
   "cell_type": "code",
   "execution_count": 43,
   "metadata": {},
   "outputs": [],
   "source": [
    "from sklearn.model_selection import train_test_split"
   ]
  },
  {
   "cell_type": "code",
   "execution_count": 44,
   "metadata": {},
   "outputs": [],
   "source": [
    "X_train, X_test, y_train, y_test = train_test_split(X, y, test_size=0.33, random_state=42)"
   ]
  },
  {
   "cell_type": "markdown",
   "metadata": {},
   "source": [
    "### Building and testing the model with default hyperparameters"
   ]
  },
  {
   "cell_type": "code",
   "execution_count": 45,
   "metadata": {},
   "outputs": [],
   "source": [
    "#using the KNN algorith to train our model\n",
    "#firt using default hyper parameter of the model"
   ]
  },
  {
   "cell_type": "code",
   "execution_count": 46,
   "metadata": {},
   "outputs": [],
   "source": [
    "from sklearn.neighbors import KNeighborsClassifier"
   ]
  },
  {
   "cell_type": "code",
   "execution_count": 47,
   "metadata": {},
   "outputs": [],
   "source": [
    "knn = KNeighborsClassifier()"
   ]
  },
  {
   "cell_type": "code",
   "execution_count": 48,
   "metadata": {},
   "outputs": [
    {
     "data": {
      "text/plain": [
       "KNeighborsClassifier()"
      ]
     },
     "execution_count": 48,
     "metadata": {},
     "output_type": "execute_result"
    }
   ],
   "source": [
    "knn.fit(X_train,y_train)"
   ]
  },
  {
   "cell_type": "code",
   "execution_count": 49,
   "metadata": {},
   "outputs": [],
   "source": [
    "y_pred = knn.predict(X_test)"
   ]
  },
  {
   "cell_type": "code",
   "execution_count": 50,
   "metadata": {},
   "outputs": [],
   "source": [
    "#now checking the accuracy of our ml model"
   ]
  },
  {
   "cell_type": "code",
   "execution_count": 51,
   "metadata": {},
   "outputs": [],
   "source": [
    "from sklearn.metrics import accuracy_score\n",
    "from sklearn.metrics import classification_report\n",
    "from sklearn.metrics import confusion_matrix"
   ]
  },
  {
   "cell_type": "code",
   "execution_count": 52,
   "metadata": {},
   "outputs": [
    {
     "name": "stdout",
     "output_type": "stream",
     "text": [
      "0.9913793103448276\n"
     ]
    }
   ],
   "source": [
    "#checking accuracy score\n",
    "print(accuracy_score(y_test,y_pred))"
   ]
  },
  {
   "cell_type": "code",
   "execution_count": 53,
   "metadata": {},
   "outputs": [],
   "source": [
    "#the accuracy score of our model is 99%"
   ]
  },
  {
   "cell_type": "code",
   "execution_count": 54,
   "metadata": {},
   "outputs": [
    {
     "name": "stdout",
     "output_type": "stream",
     "text": [
      "                                         precision    recall  f1-score   support\n",
      "\n",
      "(vertigo) Paroymsal  Positional Vertigo       1.00      1.00      1.00        37\n",
      "                                   AIDS       1.00      1.00      1.00        42\n",
      "                                   Acne       1.00      1.00      1.00        42\n",
      "                    Alcoholic hepatitis       1.00      1.00      1.00        40\n",
      "                                Allergy       1.00      0.94      0.97        36\n",
      "                              Arthritis       1.00      1.00      1.00        42\n",
      "                       Bronchial Asthma       1.00      1.00      1.00        48\n",
      "                   Cervical spondylosis       1.00      0.89      0.94        37\n",
      "                            Chicken pox       1.00      1.00      1.00        38\n",
      "                    Chronic cholestasis       1.00      1.00      1.00        31\n",
      "                            Common Cold       1.00      1.00      1.00        34\n",
      "                                 Dengue       1.00      1.00      1.00        46\n",
      "                               Diabetes       1.00      1.00      1.00        35\n",
      "           Dimorphic hemmorhoids(piles)       1.00      1.00      1.00        50\n",
      "                          Drug Reaction       1.00      1.00      1.00        38\n",
      "                       Fungal infection       1.00      1.00      1.00        33\n",
      "                                   GERD       1.00      1.00      1.00        43\n",
      "                        Gastroenteritis       1.00      0.95      0.98        43\n",
      "                           Heart attack       1.00      1.00      1.00        42\n",
      "                            Hepatitis B       1.00      1.00      1.00        47\n",
      "                            Hepatitis C       1.00      1.00      1.00        40\n",
      "                            Hepatitis D       1.00      1.00      1.00        38\n",
      "                            Hepatitis E       1.00      1.00      1.00        50\n",
      "                           Hypertension       0.79      1.00      0.88        37\n",
      "                        Hyperthyroidism       1.00      1.00      1.00        42\n",
      "                           Hypoglycemia       1.00      1.00      1.00        44\n",
      "                         Hypothyroidism       1.00      1.00      1.00        38\n",
      "                               Impetigo       1.00      0.83      0.91        36\n",
      "                               Jaundice       1.00      1.00      1.00        37\n",
      "                                Malaria       1.00      1.00      1.00        35\n",
      "                               Migraine       1.00      1.00      1.00        39\n",
      "                        Osteoarthristis       1.00      1.00      1.00        30\n",
      "           Paralysis (brain hemorrhage)       0.90      1.00      0.95        38\n",
      "                    Peptic ulcer diseae       1.00      1.00      1.00        31\n",
      "                              Pneumonia       1.00      1.00      1.00        46\n",
      "                              Psoriasis       1.00      1.00      1.00        33\n",
      "                           Tuberculosis       1.00      1.00      1.00        40\n",
      "                                Typhoid       1.00      1.00      1.00        41\n",
      "                Urinary tract infection       1.00      1.00      1.00        41\n",
      "                         Varicose veins       1.00      1.00      1.00        40\n",
      "                            hepatitis A       1.00      1.00      1.00        44\n",
      "\n",
      "                               accuracy                           0.99      1624\n",
      "                              macro avg       0.99      0.99      0.99      1624\n",
      "                           weighted avg       0.99      0.99      0.99      1624\n",
      "\n"
     ]
    }
   ],
   "source": [
    "#checking accuracy with the help of classification report\n",
    "print(classification_report(y_test,y_pred))"
   ]
  },
  {
   "cell_type": "code",
   "execution_count": 55,
   "metadata": {},
   "outputs": [
    {
     "name": "stdout",
     "output_type": "stream",
     "text": [
      "[[37  0  0 ...  0  0  0]\n",
      " [ 0 42  0 ...  0  0  0]\n",
      " [ 0  0 42 ...  0  0  0]\n",
      " ...\n",
      " [ 0  0  0 ... 41  0  0]\n",
      " [ 0  0  0 ...  0 40  0]\n",
      " [ 0  0  0 ...  0  0 44]]\n"
     ]
    }
   ],
   "source": [
    "#checking the accuracy with the help of confusion matrix\n",
    "print(confusion_matrix(y_test,y_pred))"
   ]
  },
  {
   "cell_type": "code",
   "execution_count": 56,
   "metadata": {},
   "outputs": [],
   "source": [
    "#using random forest classifire to train our model"
   ]
  },
  {
   "cell_type": "code",
   "execution_count": 57,
   "metadata": {},
   "outputs": [],
   "source": [
    "from sklearn.ensemble import RandomForestClassifier"
   ]
  },
  {
   "cell_type": "code",
   "execution_count": 58,
   "metadata": {},
   "outputs": [],
   "source": [
    "rfc = RandomForestClassifier()"
   ]
  },
  {
   "cell_type": "code",
   "execution_count": 59,
   "metadata": {},
   "outputs": [
    {
     "data": {
      "text/plain": [
       "RandomForestClassifier()"
      ]
     },
     "execution_count": 59,
     "metadata": {},
     "output_type": "execute_result"
    }
   ],
   "source": [
    "rfc.fit(X_train,y_train)"
   ]
  },
  {
   "cell_type": "code",
   "execution_count": 60,
   "metadata": {},
   "outputs": [],
   "source": [
    "y_pred = rfc.predict(X_test)"
   ]
  },
  {
   "cell_type": "code",
   "execution_count": 61,
   "metadata": {},
   "outputs": [
    {
     "name": "stdout",
     "output_type": "stream",
     "text": [
      "0.9950738916256158\n"
     ]
    }
   ],
   "source": [
    "#checking accuracy score\n",
    "print(accuracy_score(y_test,y_pred))"
   ]
  },
  {
   "cell_type": "code",
   "execution_count": 62,
   "metadata": {},
   "outputs": [
    {
     "name": "stdout",
     "output_type": "stream",
     "text": [
      "                                         precision    recall  f1-score   support\n",
      "\n",
      "(vertigo) Paroymsal  Positional Vertigo       1.00      1.00      1.00        37\n",
      "                                   AIDS       1.00      1.00      1.00        42\n",
      "                                   Acne       1.00      1.00      1.00        42\n",
      "                    Alcoholic hepatitis       1.00      1.00      1.00        40\n",
      "                                Allergy       0.92      1.00      0.96        36\n",
      "                              Arthritis       1.00      1.00      1.00        42\n",
      "                       Bronchial Asthma       1.00      1.00      1.00        48\n",
      "                   Cervical spondylosis       1.00      0.89      0.94        37\n",
      "                            Chicken pox       1.00      1.00      1.00        38\n",
      "                    Chronic cholestasis       1.00      1.00      1.00        31\n",
      "                            Common Cold       1.00      1.00      1.00        34\n",
      "                                 Dengue       1.00      1.00      1.00        46\n",
      "                               Diabetes       1.00      1.00      1.00        35\n",
      "           Dimorphic hemmorhoids(piles)       1.00      1.00      1.00        50\n",
      "                          Drug Reaction       1.00      1.00      1.00        38\n",
      "                       Fungal infection       1.00      1.00      1.00        33\n",
      "                                   GERD       1.00      1.00      1.00        43\n",
      "                        Gastroenteritis       1.00      0.95      0.98        43\n",
      "                           Heart attack       1.00      1.00      1.00        42\n",
      "                            Hepatitis B       1.00      1.00      1.00        47\n",
      "                            Hepatitis C       1.00      1.00      1.00        40\n",
      "                            Hepatitis D       1.00      1.00      1.00        38\n",
      "                            Hepatitis E       1.00      1.00      1.00        50\n",
      "                           Hypertension       0.88      1.00      0.94        37\n",
      "                        Hyperthyroidism       1.00      1.00      1.00        42\n",
      "                           Hypoglycemia       1.00      1.00      1.00        44\n",
      "                         Hypothyroidism       1.00      1.00      1.00        38\n",
      "                               Impetigo       1.00      0.97      0.99        36\n",
      "                               Jaundice       1.00      1.00      1.00        37\n",
      "                                Malaria       1.00      1.00      1.00        35\n",
      "                               Migraine       1.00      1.00      1.00        39\n",
      "                        Osteoarthristis       1.00      1.00      1.00        30\n",
      "           Paralysis (brain hemorrhage)       1.00      0.97      0.99        38\n",
      "                    Peptic ulcer diseae       1.00      1.00      1.00        31\n",
      "                              Pneumonia       1.00      1.00      1.00        46\n",
      "                              Psoriasis       1.00      1.00      1.00        33\n",
      "                           Tuberculosis       1.00      1.00      1.00        40\n",
      "                                Typhoid       1.00      1.00      1.00        41\n",
      "                Urinary tract infection       1.00      1.00      1.00        41\n",
      "                         Varicose veins       1.00      1.00      1.00        40\n",
      "                            hepatitis A       1.00      1.00      1.00        44\n",
      "\n",
      "                               accuracy                           1.00      1624\n",
      "                              macro avg       1.00      0.99      0.99      1624\n",
      "                           weighted avg       1.00      1.00      1.00      1624\n",
      "\n"
     ]
    }
   ],
   "source": [
    "#checking accuracy with the help of classification report\n",
    "print(classification_report(y_test,y_pred))"
   ]
  },
  {
   "cell_type": "code",
   "execution_count": 63,
   "metadata": {},
   "outputs": [
    {
     "name": "stdout",
     "output_type": "stream",
     "text": [
      "[[37  0  0 ...  0  0  0]\n",
      " [ 0 42  0 ...  0  0  0]\n",
      " [ 0  0 42 ...  0  0  0]\n",
      " ...\n",
      " [ 0  0  0 ... 41  0  0]\n",
      " [ 0  0  0 ...  0 40  0]\n",
      " [ 0  0  0 ...  0  0 44]]\n"
     ]
    }
   ],
   "source": [
    "#checking the accuracy with the help of confusion matrix\n",
    "print(confusion_matrix(y_test,y_pred))"
   ]
  },
  {
   "cell_type": "markdown",
   "metadata": {},
   "source": [
    "### Hyperparameters tuning with GridSearchCV"
   ]
  },
  {
   "cell_type": "code",
   "execution_count": 64,
   "metadata": {},
   "outputs": [],
   "source": [
    "from sklearn.model_selection import GridSearchCV"
   ]
  },
  {
   "cell_type": "code",
   "execution_count": 69,
   "metadata": {},
   "outputs": [],
   "source": [
    "#hyperparameters tuning for KNN\n",
    "grid_params = {\n",
    "    'n_neighbors':[3,5,11,19],\n",
    "    'weights':['uniform','distance'],\n",
    "    'metric':['euclidean','manhattan']\n",
    "}"
   ]
  },
  {
   "cell_type": "code",
   "execution_count": 70,
   "metadata": {},
   "outputs": [],
   "source": [
    "gsc_knn = GridSearchCV(KNeighborsClassifier(),grid_params,verbose=1,cv=3,n_jobs=-1)"
   ]
  },
  {
   "cell_type": "code",
   "execution_count": 71,
   "metadata": {},
   "outputs": [
    {
     "name": "stdout",
     "output_type": "stream",
     "text": [
      "Fitting 3 folds for each of 16 candidates, totalling 48 fits\n"
     ]
    },
    {
     "name": "stderr",
     "output_type": "stream",
     "text": [
      "[Parallel(n_jobs=-1)]: Using backend LokyBackend with 8 concurrent workers.\n",
      "[Parallel(n_jobs=-1)]: Done  48 out of  48 | elapsed:    3.0s finished\n"
     ]
    },
    {
     "data": {
      "text/plain": [
       "GridSearchCV(cv=3, estimator=KNeighborsClassifier(), n_jobs=-1,\n",
       "             param_grid={'metric': ['euclidean', 'manhattan'],\n",
       "                         'n_neighbors': [3, 5, 11, 19],\n",
       "                         'weights': ['uniform', 'distance']},\n",
       "             verbose=1)"
      ]
     },
     "execution_count": 71,
     "metadata": {},
     "output_type": "execute_result"
    }
   ],
   "source": [
    "gsc_knn.fit(X_train,y_train)"
   ]
  },
  {
   "cell_type": "code",
   "execution_count": 73,
   "metadata": {},
   "outputs": [
    {
     "name": "stdout",
     "output_type": "stream",
     "text": [
      "{'metric': 'euclidean', 'n_neighbors': 3, 'weights': 'distance'}\n"
     ]
    }
   ],
   "source": [
    "#printing the best hyperparameters\n",
    "print(gsc_knn.best_params_)"
   ]
  },
  {
   "cell_type": "markdown",
   "metadata": {},
   "source": [
    "### Feature selection using mutal_info_classif"
   ]
  },
  {
   "cell_type": "code",
   "execution_count": 76,
   "metadata": {},
   "outputs": [],
   "source": [
    "from sklearn.feature_selection import mutual_info_classif"
   ]
  },
  {
   "cell_type": "code",
   "execution_count": 78,
   "metadata": {},
   "outputs": [],
   "source": [
    "mutual_info = mutual_info_classif(X_train,y_train)"
   ]
  },
  {
   "cell_type": "code",
   "execution_count": 79,
   "metadata": {},
   "outputs": [
    {
     "data": {
      "text/plain": [
       "array([1.29683005, 1.11645683, 1.21214308, 1.40915557, 1.396093  ,\n",
       "       1.28612752, 1.09687123, 1.05415536, 0.97083476, 0.88097507,\n",
       "       0.758001  , 0.53467671, 0.4093689 , 0.22541857, 0.20628335,\n",
       "       0.19359119, 0.05821521])"
      ]
     },
     "execution_count": 79,
     "metadata": {},
     "output_type": "execute_result"
    }
   ],
   "source": [
    "mutual_info"
   ]
  },
  {
   "cell_type": "code",
   "execution_count": 80,
   "metadata": {},
   "outputs": [],
   "source": [
    "mutual_info = pd.Series(mutual_info)"
   ]
  },
  {
   "cell_type": "code",
   "execution_count": 81,
   "metadata": {},
   "outputs": [],
   "source": [
    "mutual_info.index = X_train.columns"
   ]
  },
  {
   "cell_type": "code",
   "execution_count": 82,
   "metadata": {},
   "outputs": [
    {
     "data": {
      "text/plain": [
       "Symptom_4     1.409156\n",
       "Symptom_5     1.396093\n",
       "Symptom_1     1.296830\n",
       "Symptom_6     1.286128\n",
       "Symptom_3     1.212143\n",
       "Symptom_2     1.116457\n",
       "Symptom_7     1.096871\n",
       "Symptom_8     1.054155\n",
       "Symptom_9     0.970835\n",
       "Symptom_10    0.880975\n",
       "Symptom_11    0.758001\n",
       "Symptom_12    0.534677\n",
       "Symptom_13    0.409369\n",
       "Symptom_14    0.225419\n",
       "Symptom_15    0.206283\n",
       "Symptom_16    0.193591\n",
       "Symptom_17    0.058215\n",
       "dtype: float64"
      ]
     },
     "execution_count": 82,
     "metadata": {},
     "output_type": "execute_result"
    }
   ],
   "source": [
    "mutual_info.sort_values(ascending=False)"
   ]
  },
  {
   "cell_type": "code",
   "execution_count": 83,
   "metadata": {},
   "outputs": [
    {
     "data": {
      "text/plain": [
       "<AxesSubplot:>"
      ]
     },
     "execution_count": 83,
     "metadata": {},
     "output_type": "execute_result"
    },
    {
     "data": {
      "image/png": "[encoded data removed]",
      "text/plain": [
       "<Figure size 1440x720 with 1 Axes>"
      ]
     },
     "metadata": {
      "needs_background": "light"
     },
     "output_type": "display_data"
    }
   ],
   "source": [
    "#plotting the value in bar graph so we can also visualize properly\n",
    "mutual_info.sort_values(ascending=False).plot.bar(figsize=(20,10))"
   ]
  },
  {
   "cell_type": "code",
   "execution_count": 88,
   "metadata": {},
   "outputs": [],
   "source": [
    "#selecting only top 10 features\n",
    "col_list = []\n",
    "for col in mutual_info.sort_values(ascending=False).index:\n",
    "    if(len(col_list)==10):\n",
    "        break\n",
    "    col_list.append(col)\n",
    "   "
   ]
  },
  {
   "cell_type": "code",
   "execution_count": 89,
   "metadata": {},
   "outputs": [
    {
     "data": {
      "text/plain": [
       "['Symptom_4',\n",
       " 'Symptom_5',\n",
       " 'Symptom_1',\n",
       " 'Symptom_6',\n",
       " 'Symptom_3',\n",
       " 'Symptom_2',\n",
       " 'Symptom_7',\n",
       " 'Symptom_8',\n",
       " 'Symptom_9',\n",
       " 'Symptom_10']"
      ]
     },
     "execution_count": 89,
     "metadata": {},
     "output_type": "execute_result"
    }
   ],
   "source": [
    "col_list"
   ]
  },
  {
   "cell_type": "code",
   "execution_count": 94,
   "metadata": {},
   "outputs": [],
   "source": [
    "new_df = X= df_processed"
   ]
  },
  {
   "cell_type": "code",
   "execution_count": 95,
   "metadata": {},
   "outputs": [],
   "source": [
    "col_list.append('Disease')"
   ]
  },
  {
   "cell_type": "code",
   "execution_count": 96,
   "metadata": {},
   "outputs": [],
   "source": [
    "new_df = new_df[col_list]"
   ]
  },
  {
   "cell_type": "code",
   "execution_count": 97,
   "metadata": {},
   "outputs": [
    {
     "data": {
      "text/html": [
       "<div>\n",
       "<style scoped>\n",
       "    .dataframe tbody tr th:only-of-type {\n",
       "        vertical-align: middle;\n",
       "    }\n",
       "\n",
       "    .dataframe tbody tr th {\n",
       "        vertical-align: top;\n",
       "    }\n",
       "\n",
       "    .dataframe thead th {\n",
       "        text-align: right;\n",
       "    }\n",
       "</style>\n",
       "<table border=\"1\" class=\"dataframe\">\n",
       "  <thead>\n",
       "    <tr style=\"text-align: right;\">\n",
       "      <th></th>\n",
       "      <th>Symptom_4</th>\n",
       "      <th>Symptom_5</th>\n",
       "      <th>Symptom_1</th>\n",
       "      <th>Symptom_6</th>\n",
       "      <th>Symptom_3</th>\n",
       "      <th>Symptom_2</th>\n",
       "      <th>Symptom_7</th>\n",
       "      <th>Symptom_8</th>\n",
       "      <th>Symptom_9</th>\n",
       "      <th>Symptom_10</th>\n",
       "      <th>Disease</th>\n",
       "    </tr>\n",
       "  </thead>\n",
       "  <tbody>\n",
       "    <tr>\n",
       "      <th>0</th>\n",
       "      <td>0</td>\n",
       "      <td>0</td>\n",
       "      <td>1</td>\n",
       "      <td>0</td>\n",
       "      <td>4</td>\n",
       "      <td>3</td>\n",
       "      <td>0</td>\n",
       "      <td>0</td>\n",
       "      <td>0</td>\n",
       "      <td>0</td>\n",
       "      <td>Fungal infection</td>\n",
       "    </tr>\n",
       "    <tr>\n",
       "      <th>1</th>\n",
       "      <td>0</td>\n",
       "      <td>0</td>\n",
       "      <td>3</td>\n",
       "      <td>0</td>\n",
       "      <td>0</td>\n",
       "      <td>4</td>\n",
       "      <td>0</td>\n",
       "      <td>0</td>\n",
       "      <td>0</td>\n",
       "      <td>0</td>\n",
       "      <td>Fungal infection</td>\n",
       "    </tr>\n",
       "    <tr>\n",
       "      <th>2</th>\n",
       "      <td>0</td>\n",
       "      <td>0</td>\n",
       "      <td>1</td>\n",
       "      <td>0</td>\n",
       "      <td>0</td>\n",
       "      <td>4</td>\n",
       "      <td>0</td>\n",
       "      <td>0</td>\n",
       "      <td>0</td>\n",
       "      <td>0</td>\n",
       "      <td>Fungal infection</td>\n",
       "    </tr>\n",
       "    <tr>\n",
       "      <th>3</th>\n",
       "      <td>0</td>\n",
       "      <td>0</td>\n",
       "      <td>1</td>\n",
       "      <td>0</td>\n",
       "      <td>0</td>\n",
       "      <td>3</td>\n",
       "      <td>0</td>\n",
       "      <td>0</td>\n",
       "      <td>0</td>\n",
       "      <td>0</td>\n",
       "      <td>Fungal infection</td>\n",
       "    </tr>\n",
       "    <tr>\n",
       "      <th>4</th>\n",
       "      <td>0</td>\n",
       "      <td>0</td>\n",
       "      <td>1</td>\n",
       "      <td>0</td>\n",
       "      <td>4</td>\n",
       "      <td>3</td>\n",
       "      <td>0</td>\n",
       "      <td>0</td>\n",
       "      <td>0</td>\n",
       "      <td>0</td>\n",
       "      <td>Fungal infection</td>\n",
       "    </tr>\n",
       "  </tbody>\n",
       "</table>\n",
       "</div>"
      ],
      "text/plain": [
       "   Symptom_4  Symptom_5  Symptom_1  Symptom_6  Symptom_3  Symptom_2  \\\n",
       "0          0          0          1          0          4          3   \n",
       "1          0          0          3          0          0          4   \n",
       "2          0          0          1          0          0          4   \n",
       "3          0          0          1          0          0          3   \n",
       "4          0          0          1          0          4          3   \n",
       "\n",
       "   Symptom_7  Symptom_8  Symptom_9  Symptom_10           Disease  \n",
       "0          0          0          0           0  Fungal infection  \n",
       "1          0          0          0           0  Fungal infection  \n",
       "2          0          0          0           0  Fungal infection  \n",
       "3          0          0          0           0  Fungal infection  \n",
       "4          0          0          0           0  Fungal infection  "
      ]
     },
     "execution_count": 97,
     "metadata": {},
     "output_type": "execute_result"
    }
   ],
   "source": [
    "new_df.head()"
   ]
  },
  {
   "cell_type": "code",
   "execution_count": 98,
   "metadata": {},
   "outputs": [],
   "source": [
    "X = new_df.drop('Disease',axis=1)"
   ]
  },
  {
   "cell_type": "code",
   "execution_count": 99,
   "metadata": {},
   "outputs": [],
   "source": [
    "y = new_df['Disease']"
   ]
  },
  {
   "cell_type": "code",
   "execution_count": 101,
   "metadata": {},
   "outputs": [],
   "source": [
    "#spliting the data into training and testing"
   ]
  },
  {
   "cell_type": "code",
   "execution_count": 102,
   "metadata": {},
   "outputs": [],
   "source": [
    "X_train, X_test, y_train, y_test = train_test_split(X, y, test_size=0.33, random_state=42)"
   ]
  },
  {
   "cell_type": "code",
   "execution_count": 103,
   "metadata": {},
   "outputs": [],
   "source": [
    "#rebuilding the model with best hyperparameters"
   ]
  },
  {
   "cell_type": "code",
   "execution_count": 105,
   "metadata": {},
   "outputs": [],
   "source": [
    "knn_tuning = KNeighborsClassifier(metric='euclidean', n_neighbors=3, weights='distance')"
   ]
  },
  {
   "cell_type": "code",
   "execution_count": 106,
   "metadata": {},
   "outputs": [
    {
     "data": {
      "text/plain": [
       "KNeighborsClassifier(metric='euclidean', n_neighbors=3, weights='distance')"
      ]
     },
     "execution_count": 106,
     "metadata": {},
     "output_type": "execute_result"
    }
   ],
   "source": [
    "knn_tuning.fit(X_train,y_train)"
   ]
  },
  {
   "cell_type": "code",
   "execution_count": 107,
   "metadata": {},
   "outputs": [],
   "source": [
    "y_pred = knn_tuning.predict(X_test)"
   ]
  },
  {
   "cell_type": "code",
   "execution_count": 108,
   "metadata": {},
   "outputs": [
    {
     "name": "stdout",
     "output_type": "stream",
     "text": [
      "0.9944581280788177\n"
     ]
    }
   ],
   "source": [
    "#checking accuracy score\n",
    "print(accuracy_score(y_test,y_pred))"
   ]
  },
  {
   "cell_type": "code",
   "execution_count": 109,
   "metadata": {},
   "outputs": [
    {
     "name": "stdout",
     "output_type": "stream",
     "text": [
      "                                         precision    recall  f1-score   support\n",
      "\n",
      "(vertigo) Paroymsal  Positional Vertigo       1.00      1.00      1.00        37\n",
      "                                   AIDS       1.00      1.00      1.00        42\n",
      "                                   Acne       1.00      1.00      1.00        42\n",
      "                    Alcoholic hepatitis       1.00      1.00      1.00        40\n",
      "                                Allergy       1.00      0.94      0.97        36\n",
      "                              Arthritis       1.00      1.00      1.00        42\n",
      "                       Bronchial Asthma       1.00      1.00      1.00        48\n",
      "                   Cervical spondylosis       1.00      0.89      0.94        37\n",
      "                            Chicken pox       1.00      1.00      1.00        38\n",
      "                    Chronic cholestasis       1.00      1.00      1.00        31\n",
      "                            Common Cold       1.00      1.00      1.00        34\n",
      "                                 Dengue       1.00      1.00      1.00        46\n",
      "                               Diabetes       1.00      1.00      1.00        35\n",
      "           Dimorphic hemmorhoids(piles)       1.00      1.00      1.00        50\n",
      "                          Drug Reaction       1.00      1.00      1.00        38\n",
      "                       Fungal infection       1.00      1.00      1.00        33\n",
      "                                   GERD       1.00      1.00      1.00        43\n",
      "                        Gastroenteritis       1.00      0.95      0.98        43\n",
      "                           Heart attack       1.00      1.00      1.00        42\n",
      "                            Hepatitis B       1.00      1.00      1.00        47\n",
      "                            Hepatitis C       1.00      1.00      1.00        40\n",
      "                            Hepatitis D       1.00      1.00      1.00        38\n",
      "                            Hepatitis E       1.00      1.00      1.00        50\n",
      "                           Hypertension       0.88      1.00      0.94        37\n",
      "                        Hyperthyroidism       1.00      1.00      1.00        42\n",
      "                           Hypoglycemia       1.00      1.00      1.00        44\n",
      "                         Hypothyroidism       1.00      1.00      1.00        38\n",
      "                               Impetigo       1.00      0.97      0.99        36\n",
      "                               Jaundice       1.00      1.00      1.00        37\n",
      "                                Malaria       1.00      1.00      1.00        35\n",
      "                               Migraine       1.00      1.00      1.00        39\n",
      "                        Osteoarthristis       1.00      1.00      1.00        30\n",
      "           Paralysis (brain hemorrhage)       0.90      1.00      0.95        38\n",
      "                    Peptic ulcer diseae       1.00      1.00      1.00        31\n",
      "                              Pneumonia       1.00      1.00      1.00        46\n",
      "                              Psoriasis       1.00      1.00      1.00        33\n",
      "                           Tuberculosis       1.00      1.00      1.00        40\n",
      "                                Typhoid       1.00      1.00      1.00        41\n",
      "                Urinary tract infection       1.00      1.00      1.00        41\n",
      "                         Varicose veins       1.00      1.00      1.00        40\n",
      "                            hepatitis A       1.00      1.00      1.00        44\n",
      "\n",
      "                               accuracy                           0.99      1624\n",
      "                              macro avg       0.99      0.99      0.99      1624\n",
      "                           weighted avg       1.00      0.99      0.99      1624\n",
      "\n"
     ]
    }
   ],
   "source": [
    "#checking accuracy with the help of classification report\n",
    "print(classification_report(y_test,y_pred))"
   ]
  },
  {
   "cell_type": "code",
   "execution_count": 110,
   "metadata": {},
   "outputs": [
    {
     "name": "stdout",
     "output_type": "stream",
     "text": [
      "[[37  0  0 ...  0  0  0]\n",
      " [ 0 42  0 ...  0  0  0]\n",
      " [ 0  0 42 ...  0  0  0]\n",
      " ...\n",
      " [ 0  0  0 ... 41  0  0]\n",
      " [ 0  0  0 ...  0 40  0]\n",
      " [ 0  0  0 ...  0  0 44]]\n"
     ]
    }
   ],
   "source": [
    "#checking the accuracy with the help of confusion matrix\n",
    "print(confusion_matrix(y_test,y_pred))"
   ]
  },
  {
   "cell_type": "markdown",
   "metadata": {},
   "source": [
    "### In conclusin with the help of hyperparameter tuning we can imporve our model accuracy by little bit"
   ]
  }
 ],
 "metadata": {
  "kernelspec": {
   "display_name": "Python 3",
   "language": "python",
   "name": "python3"
  },
  "language_info": {
   "codemirror_mode": {
    "name": "ipython",
    "version": 3
   },
   "file_extension": ".py",
   "mimetype": "text/x-python",
   "name": "python",
   "nbconvert_exporter": "python",
   "pygments_lexer": "ipython3",
   "version": "3.6.8"
  }
 },
 "nbformat": 4,
 "nbformat_minor": 4
}
